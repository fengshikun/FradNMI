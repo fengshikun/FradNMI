{
 "cells": [
  {
   "cell_type": "code",
   "execution_count": 1,
   "metadata": {},
   "outputs": [],
   "source": [
    "from rdkit import Chem\n",
    "import py3Dmol\n",
    "from rdkit.Chem import AllChem\n",
    "from rdkit.Chem.Draw import IPythonConsole\n",
    "IPythonConsole.ipython_useSVG = True\n"
   ]
  },
  {
   "cell_type": "code",
   "execution_count": 2,
   "metadata": {},
   "outputs": [],
   "source": [
    "def MolTo3DView(mol, size=(300, 300), style=\"stick\", surface=False, opacity=0.5):\n",
    "    \"\"\"Draw molecule in 3D\n",
    "    \n",
    "    Args:\n",
    "    ----\n",
    "        mol: rdMol, molecule to show\n",
    "        size: tuple(int, int), canvas size\n",
    "        style: str, type of drawing molecule\n",
    "               style can be 'line', 'stick', 'sphere', 'carton'\n",
    "        surface, bool, display SAS\n",
    "        opacity, float, opacity of surface, range 0.0-1.0\n",
    "    Return:\n",
    "    ----\n",
    "        viewer: py3Dmol.view, a class for constructing embedded 3Dmol.js views in ipython notebooks.\n",
    "    \"\"\"\n",
    "    assert style in ('line', 'stick', 'sphere', 'carton')\n",
    "    mblock = Chem.MolToMolBlock(mol)\n",
    "    viewer = py3Dmol.view(width=size[0], height=size[1])\n",
    "    viewer.addModel(mblock, 'mol')\n",
    "    viewer.setStyle({style:{}})\n",
    "    # viewer.addPropertyLabels(\"atom\",\"\",\"\")\n",
    "\n",
    "    # for i, at in enumerate(mol):\n",
    "    #     default = {\"stick\": {'color': 'black'}}\n",
    "    #     viewer.setStyle({'model': -1, 'serial': i+1}, at.get(\"pymol\", default))\n",
    "\n",
    "    if surface:\n",
    "        viewer.addSurface(py3Dmol.SAS, {'opacity': opacity})\n",
    "    viewer.zoomTo()\n",
    "    return viewer\n",
    "\n"
   ]
  },
  {
   "cell_type": "code",
   "execution_count": 5,
   "metadata": {},
   "outputs": [
    {
     "data": {
      "application/3dmoljs_load.v0": "<div id=\"3dmolviewer_1680616406283408\"  style=\"position: relative; width: 600px; height: 300px\">\n        <p id=\"3dmolwarning_1680616406283408\" style=\"background-color:#ffcccc;color:black\">You appear to be running in JupyterLab (or JavaScript failed to load for some other reason).  You need to install the 3dmol extension: <br>\n        <tt>jupyter labextension install jupyterlab_3dmol</tt></p>\n        </div>\n<script>\n\nvar loadScriptAsync = function(uri){\n  return new Promise((resolve, reject) => {\n    //this is to ignore the existence of requirejs amd\n    var savedexports, savedmodule;\n    if (typeof exports !== 'undefined') savedexports = exports;\n    else exports = {}\n    if (typeof module !== 'undefined') savedmodule = module;\n    else module = {}\n\n    var tag = document.createElement('script');\n    tag.src = uri;\n    tag.async = true;\n    tag.onload = () => {\n        exports = savedexports;\n        module = savedmodule;\n        resolve();\n    };\n  var firstScriptTag = document.getElementsByTagName('script')[0];\n  firstScriptTag.parentNode.insertBefore(tag, firstScriptTag);\n});\n};\n\nif(typeof $3Dmolpromise === 'undefined') {\n$3Dmolpromise = null;\n  $3Dmolpromise = loadScriptAsync('https://cdn.jsdelivr.net/npm/3dmol@latest/build/3Dmol-min.min.js');\n}\n\nvar viewer_1680616406283408 = null;\nvar warn = document.getElementById(\"3dmolwarning_1680616406283408\");\nif(warn) {\n    warn.parentNode.removeChild(warn);\n}\n$3Dmolpromise.then(function() {\nviewer_1680616406283408 = $3Dmol.createViewer(document.getElementById(\"3dmolviewer_1680616406283408\"),{backgroundColor:\"white\"});\nviewer_1680616406283408.zoomTo();\n\tviewer_1680616406283408.addModel(\"\\n     RDKit          3D\\n\\n 15 16  0  0  0  0  0  0  0  0999 V2000\\n    2.7329    1.3874    0.0927 C   0  0  0  0  0  0  0  0  0  0  0  0\\n    4.7120    1.7959   -3.8355 C   0  0  0  0  0  0  0  0  0  0  0  0\\n   -0.1526    1.6863   -3.1535 C   0  0  0  0  0  0  0  0  0  0  0  0\\n    0.4255    2.9588   -3.3474 C   0  0  0  0  0  0  0  0  0  0  0  0\\n    0.7687    1.0016   -2.3831 C   0  0  0  0  0  0  0  0  0  0  0  0\\n    6.0174   -1.5794   -2.5617 C   0  0  0  0  0  0  0  0  0  0  0  0\\n    6.8061   -0.3453   -4.0713 C   0  0  0  0  0  0  0  0  0  0  0  0\\n    3.0278    1.6114   -1.3919 C   0  0  1  0  0  0  0  0  0  0  0  0\\n    5.3706   -0.5615   -3.5262 C   0  0  0  0  0  0  0  0  0  0  0  0\\n    3.7651    0.3883   -1.9884 C   0  0  0  0  0  0  0  0  0  0  0  0\\n    7.1661   -1.6632   -3.5014 N   0  0  0  0  0  0  0  0  0  0  0  0\\n    1.6118    3.0634   -2.7460 N   0  0  0  0  0  0  0  0  0  0  0  0\\n    4.6776    0.6041   -2.9854 N   0  0  0  0  0  0  0  0  0  0  0  0\\n    1.8037    1.8561   -2.1596 N   0  0  0  0  0  0  0  0  0  0  0  0\\n    3.5385   -0.7335   -1.5390 O   0  0  0  0  0  0  0  0  0  0  0  0\\n  2 13  1  0\\n  3  5  2  0\\n  4  3  1  0\\n  4 12  2  0\\n  5 14  1  0\\n  7  9  1  0\\n  7 11  1  0\\n  8  1  1  1\\n  9 13  1  0\\n  9  6  1  0\\n 10 15  2  0\\n 10  8  1  0\\n 11  6  1  0\\n 12 14  1  0\\n 13 10  1  0\\n 14  8  1  0\\nM  END\\n\",\"mol\");\n\tviewer_1680616406283408.setStyle({\"stick\": {}});\n\tviewer_1680616406283408.zoomTo();\nviewer_1680616406283408.render();\n});\n</script>",
      "text/html": [
       "<div id=\"3dmolviewer_1680616406283408\"  style=\"position: relative; width: 600px; height: 300px\">\n",
       "        <p id=\"3dmolwarning_1680616406283408\" style=\"background-color:#ffcccc;color:black\">You appear to be running in JupyterLab (or JavaScript failed to load for some other reason).  You need to install the 3dmol extension: <br>\n",
       "        <tt>jupyter labextension install jupyterlab_3dmol</tt></p>\n",
       "        </div>\n",
       "<script>\n",
       "\n",
       "var loadScriptAsync = function(uri){\n",
       "  return new Promise((resolve, reject) => {\n",
       "    //this is to ignore the existence of requirejs amd\n",
       "    var savedexports, savedmodule;\n",
       "    if (typeof exports !== 'undefined') savedexports = exports;\n",
       "    else exports = {}\n",
       "    if (typeof module !== 'undefined') savedmodule = module;\n",
       "    else module = {}\n",
       "\n",
       "    var tag = document.createElement('script');\n",
       "    tag.src = uri;\n",
       "    tag.async = true;\n",
       "    tag.onload = () => {\n",
       "        exports = savedexports;\n",
       "        module = savedmodule;\n",
       "        resolve();\n",
       "    };\n",
       "  var firstScriptTag = document.getElementsByTagName('script')[0];\n",
       "  firstScriptTag.parentNode.insertBefore(tag, firstScriptTag);\n",
       "});\n",
       "};\n",
       "\n",
       "if(typeof $3Dmolpromise === 'undefined') {\n",
       "$3Dmolpromise = null;\n",
       "  $3Dmolpromise = loadScriptAsync('https://cdn.jsdelivr.net/npm/3dmol@latest/build/3Dmol-min.min.js');\n",
       "}\n",
       "\n",
       "var viewer_1680616406283408 = null;\n",
       "var warn = document.getElementById(\"3dmolwarning_1680616406283408\");\n",
       "if(warn) {\n",
       "    warn.parentNode.removeChild(warn);\n",
       "}\n",
       "$3Dmolpromise.then(function() {\n",
       "viewer_1680616406283408 = $3Dmol.createViewer(document.getElementById(\"3dmolviewer_1680616406283408\"),{backgroundColor:\"white\"});\n",
       "viewer_1680616406283408.zoomTo();\n",
       "\tviewer_1680616406283408.addModel(\"\\n     RDKit          3D\\n\\n 15 16  0  0  0  0  0  0  0  0999 V2000\\n    2.7329    1.3874    0.0927 C   0  0  0  0  0  0  0  0  0  0  0  0\\n    4.7120    1.7959   -3.8355 C   0  0  0  0  0  0  0  0  0  0  0  0\\n   -0.1526    1.6863   -3.1535 C   0  0  0  0  0  0  0  0  0  0  0  0\\n    0.4255    2.9588   -3.3474 C   0  0  0  0  0  0  0  0  0  0  0  0\\n    0.7687    1.0016   -2.3831 C   0  0  0  0  0  0  0  0  0  0  0  0\\n    6.0174   -1.5794   -2.5617 C   0  0  0  0  0  0  0  0  0  0  0  0\\n    6.8061   -0.3453   -4.0713 C   0  0  0  0  0  0  0  0  0  0  0  0\\n    3.0278    1.6114   -1.3919 C   0  0  1  0  0  0  0  0  0  0  0  0\\n    5.3706   -0.5615   -3.5262 C   0  0  0  0  0  0  0  0  0  0  0  0\\n    3.7651    0.3883   -1.9884 C   0  0  0  0  0  0  0  0  0  0  0  0\\n    7.1661   -1.6632   -3.5014 N   0  0  0  0  0  0  0  0  0  0  0  0\\n    1.6118    3.0634   -2.7460 N   0  0  0  0  0  0  0  0  0  0  0  0\\n    4.6776    0.6041   -2.9854 N   0  0  0  0  0  0  0  0  0  0  0  0\\n    1.8037    1.8561   -2.1596 N   0  0  0  0  0  0  0  0  0  0  0  0\\n    3.5385   -0.7335   -1.5390 O   0  0  0  0  0  0  0  0  0  0  0  0\\n  2 13  1  0\\n  3  5  2  0\\n  4  3  1  0\\n  4 12  2  0\\n  5 14  1  0\\n  7  9  1  0\\n  7 11  1  0\\n  8  1  1  1\\n  9 13  1  0\\n  9  6  1  0\\n 10 15  2  0\\n 10  8  1  0\\n 11  6  1  0\\n 12 14  1  0\\n 13 10  1  0\\n 14  8  1  0\\nM  END\\n\",\"mol\");\n",
       "\tviewer_1680616406283408.setStyle({\"stick\": {}});\n",
       "\tviewer_1680616406283408.zoomTo();\n",
       "viewer_1680616406283408.render();\n",
       "});\n",
       "</script>"
      ]
     },
     "metadata": {},
     "output_type": "display_data"
    }
   ],
   "source": [
    "mol = Chem.SDMolSupplier('org_4.sdf')[0]\n",
    "viewer = MolTo3DView(mol, size=(600, 300), style='stick')\n",
    "viewer.show()"
   ]
  },
  {
   "cell_type": "code",
   "execution_count": null,
   "metadata": {},
   "outputs": [],
   "source": []
  }
 ],
 "metadata": {
  "kernelspec": {
   "display_name": "base",
   "language": "python",
   "name": "python3"
  },
  "language_info": {
   "codemirror_mode": {
    "name": "ipython",
    "version": 3
   },
   "file_extension": ".py",
   "mimetype": "text/x-python",
   "name": "python",
   "nbconvert_exporter": "python",
   "pygments_lexer": "ipython3",
   "version": "3.8.16"
  },
  "orig_nbformat": 4
 },
 "nbformat": 4,
 "nbformat_minor": 2
}
