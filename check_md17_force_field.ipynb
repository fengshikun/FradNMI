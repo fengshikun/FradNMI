{
 "cells": [
  {
   "cell_type": "code",
   "execution_count": 29,
   "metadata": {},
   "outputs": [],
   "source": [
    "from torchmdnet.datasets import MD17\n",
    "\n",
    "md17_data = MD17('/share/project/sharefs-skfeng/MD17', dataset_arg='aspirin')"
   ]
  },
  {
   "cell_type": "code",
   "execution_count": 7,
   "metadata": {},
   "outputs": [
    {
     "name": "stderr",
     "output_type": "stream",
     "text": [
      "100%|██████████| 211762/211762 [00:16<00:00, 13150.19it/s]\n"
     ]
    }
   ],
   "source": [
    "from tqdm import tqdm\n",
    "energy_y_lst = []\n",
    "for md_ele in tqdm(md17_data):\n",
    "    energy_y_lst.append(md_ele.y[0][0].item())"
   ]
  },
  {
   "cell_type": "code",
   "execution_count": 4,
   "metadata": {},
   "outputs": [
    {
     "name": "stdout",
     "output_type": "stream",
     "text": [
      "Freedman–Diaconis number of bins: 208\n"
     ]
    },
    {
     "data": {
      "text/plain": [
       "(array([1.000e+00, 0.000e+00, 1.000e+00, 1.000e+00, 0.000e+00, 1.000e+00,\n",
       "        1.000e+00, 7.000e+00, 2.000e+00, 8.000e+00, 2.000e+00, 1.200e+01,\n",
       "        1.100e+01, 1.700e+01, 2.400e+01, 2.600e+01, 2.700e+01, 3.700e+01,\n",
       "        4.400e+01, 6.100e+01, 6.600e+01, 8.100e+01, 1.020e+02, 1.580e+02,\n",
       "        1.300e+02, 2.160e+02, 2.040e+02, 2.580e+02, 2.760e+02, 3.440e+02,\n",
       "        3.100e+02, 4.170e+02, 4.060e+02, 5.370e+02, 5.000e+02, 7.300e+02,\n",
       "        6.300e+02, 8.050e+02, 8.470e+02, 1.050e+03, 1.014e+03, 1.280e+03,\n",
       "        1.199e+03, 1.456e+03, 1.407e+03, 1.638e+03, 1.595e+03, 2.020e+03,\n",
       "        1.831e+03, 2.220e+03, 2.089e+03, 2.447e+03, 2.297e+03, 2.567e+03,\n",
       "        2.499e+03, 2.910e+03, 2.664e+03, 3.048e+03, 2.822e+03, 3.307e+03,\n",
       "        3.071e+03, 3.475e+03, 3.159e+03, 3.705e+03, 3.352e+03, 3.775e+03,\n",
       "        3.355e+03, 3.820e+03, 3.498e+03, 4.126e+03, 3.663e+03, 4.006e+03,\n",
       "        3.605e+03, 4.057e+03, 3.436e+03, 4.084e+03, 3.521e+03, 4.008e+03,\n",
       "        3.554e+03, 3.946e+03, 3.433e+03, 3.767e+03, 3.325e+03, 3.622e+03,\n",
       "        3.122e+03, 3.401e+03, 3.065e+03, 3.342e+03, 2.853e+03, 3.109e+03,\n",
       "        2.686e+03, 2.963e+03, 2.449e+03, 2.674e+03, 2.264e+03, 2.434e+03,\n",
       "        2.097e+03, 2.229e+03, 1.959e+03, 2.167e+03, 1.798e+03, 1.913e+03,\n",
       "        1.611e+03, 1.689e+03, 1.716e+03, 1.387e+03, 1.513e+03, 1.256e+03,\n",
       "        1.318e+03, 1.054e+03, 1.239e+03, 9.640e+02, 1.023e+03, 8.380e+02,\n",
       "        9.040e+02, 7.600e+02, 8.130e+02, 6.310e+02, 6.650e+02, 5.750e+02,\n",
       "        6.180e+02, 4.840e+02, 5.460e+02, 4.450e+02, 4.240e+02, 3.590e+02,\n",
       "        3.660e+02, 2.970e+02, 3.290e+02, 2.730e+02, 2.580e+02, 2.220e+02,\n",
       "        2.360e+02, 1.940e+02, 2.090e+02, 1.730e+02, 1.540e+02, 1.590e+02,\n",
       "        1.470e+02, 1.180e+02, 1.250e+02, 9.500e+01, 1.040e+02, 6.700e+01,\n",
       "        7.700e+01, 6.400e+01, 7.300e+01, 6.100e+01, 6.800e+01, 5.100e+01,\n",
       "        4.200e+01, 2.400e+01, 3.300e+01, 3.800e+01, 4.400e+01, 2.600e+01,\n",
       "        2.200e+01, 2.100e+01, 2.000e+01, 1.600e+01, 1.400e+01, 1.500e+01,\n",
       "        1.200e+01, 1.100e+01, 1.400e+01, 1.100e+01, 1.600e+01, 4.000e+00,\n",
       "        8.000e+00, 5.000e+00, 8.000e+00, 9.000e+00, 1.000e+01, 4.000e+00,\n",
       "        4.000e+00, 2.000e+00, 1.000e+00, 3.000e+00, 1.000e+00, 3.000e+00,\n",
       "        3.000e+00, 1.000e+00, 1.000e+00, 0.000e+00, 3.000e+00, 0.000e+00,\n",
       "        0.000e+00, 0.000e+00, 1.000e+00, 0.000e+00, 0.000e+00, 0.000e+00,\n",
       "        0.000e+00, 0.000e+00, 2.000e+00, 0.000e+00, 0.000e+00, 1.000e+00,\n",
       "        1.000e+00, 0.000e+00, 2.000e+00, 0.000e+00, 1.000e+00, 0.000e+00,\n",
       "        1.000e+00, 1.000e+00, 1.000e+00, 2.000e+00]),\n",
       " array([-406757.59375   , -406757.32797476, -406757.06219952,\n",
       "        -406756.79642428, -406756.53064904, -406756.2648738 ,\n",
       "        -406755.99909856, -406755.73332332, -406755.46754808,\n",
       "        -406755.20177284, -406754.9359976 , -406754.67022236,\n",
       "        -406754.40444712, -406754.13867188, -406753.87289663,\n",
       "        -406753.60712139, -406753.34134615, -406753.07557091,\n",
       "        -406752.80979567, -406752.54402043, -406752.27824519,\n",
       "        -406752.01246995, -406751.74669471, -406751.48091947,\n",
       "        -406751.21514423, -406750.94936899, -406750.68359375,\n",
       "        -406750.41781851, -406750.15204327, -406749.88626803,\n",
       "        -406749.62049279, -406749.35471755, -406749.08894231,\n",
       "        -406748.82316707, -406748.55739183, -406748.29161659,\n",
       "        -406748.02584135, -406747.76006611, -406747.49429087,\n",
       "        -406747.22851562, -406746.96274038, -406746.69696514,\n",
       "        -406746.4311899 , -406746.16541466, -406745.89963942,\n",
       "        -406745.63386418, -406745.36808894, -406745.1023137 ,\n",
       "        -406744.83653846, -406744.57076322, -406744.30498798,\n",
       "        -406744.03921274, -406743.7734375 , -406743.50766226,\n",
       "        -406743.24188702, -406742.97611178, -406742.71033654,\n",
       "        -406742.4445613 , -406742.17878606, -406741.91301082,\n",
       "        -406741.64723558, -406741.38146034, -406741.1156851 ,\n",
       "        -406740.84990986, -406740.58413462, -406740.31835938,\n",
       "        -406740.05258413, -406739.78680889, -406739.52103365,\n",
       "        -406739.25525841, -406738.98948317, -406738.72370793,\n",
       "        -406738.45793269, -406738.19215745, -406737.92638221,\n",
       "        -406737.66060697, -406737.39483173, -406737.12905649,\n",
       "        -406736.86328125, -406736.59750601, -406736.33173077,\n",
       "        -406736.06595553, -406735.80018029, -406735.53440505,\n",
       "        -406735.26862981, -406735.00285457, -406734.73707933,\n",
       "        -406734.47130409, -406734.20552885, -406733.93975361,\n",
       "        -406733.67397837, -406733.40820312, -406733.14242788,\n",
       "        -406732.87665264, -406732.6108774 , -406732.34510216,\n",
       "        -406732.07932692, -406731.81355168, -406731.54777644,\n",
       "        -406731.2820012 , -406731.01622596, -406730.75045072,\n",
       "        -406730.48467548, -406730.21890024, -406729.953125  ,\n",
       "        -406729.68734976, -406729.42157452, -406729.15579928,\n",
       "        -406728.89002404, -406728.6242488 , -406728.35847356,\n",
       "        -406728.09269832, -406727.82692308, -406727.56114784,\n",
       "        -406727.2953726 , -406727.02959736, -406726.76382212,\n",
       "        -406726.49804688, -406726.23227163, -406725.96649639,\n",
       "        -406725.70072115, -406725.43494591, -406725.16917067,\n",
       "        -406724.90339543, -406724.63762019, -406724.37184495,\n",
       "        -406724.10606971, -406723.84029447, -406723.57451923,\n",
       "        -406723.30874399, -406723.04296875, -406722.77719351,\n",
       "        -406722.51141827, -406722.24564303, -406721.97986779,\n",
       "        -406721.71409255, -406721.44831731, -406721.18254207,\n",
       "        -406720.91676683, -406720.65099159, -406720.38521635,\n",
       "        -406720.11944111, -406719.85366587, -406719.58789062,\n",
       "        -406719.32211538, -406719.05634014, -406718.7905649 ,\n",
       "        -406718.52478966, -406718.25901442, -406717.99323918,\n",
       "        -406717.72746394, -406717.4616887 , -406717.19591346,\n",
       "        -406716.93013822, -406716.66436298, -406716.39858774,\n",
       "        -406716.1328125 , -406715.86703726, -406715.60126202,\n",
       "        -406715.33548678, -406715.06971154, -406714.8039363 ,\n",
       "        -406714.53816106, -406714.27238582, -406714.00661058,\n",
       "        -406713.74083534, -406713.4750601 , -406713.20928486,\n",
       "        -406712.94350962, -406712.67773438, -406712.41195913,\n",
       "        -406712.14618389, -406711.88040865, -406711.61463341,\n",
       "        -406711.34885817, -406711.08308293, -406710.81730769,\n",
       "        -406710.55153245, -406710.28575721, -406710.01998197,\n",
       "        -406709.75420673, -406709.48843149, -406709.22265625,\n",
       "        -406708.95688101, -406708.69110577, -406708.42533053,\n",
       "        -406708.15955529, -406707.89378005, -406707.62800481,\n",
       "        -406707.36222957, -406707.09645433, -406706.83067909,\n",
       "        -406706.56490385, -406706.29912861, -406706.03335337,\n",
       "        -406705.76757812, -406705.50180288, -406705.23602764,\n",
       "        -406704.9702524 , -406704.70447716, -406704.43870192,\n",
       "        -406704.17292668, -406703.90715144, -406703.6413762 ,\n",
       "        -406703.37560096, -406703.10982572, -406702.84405048,\n",
       "        -406702.57827524, -406702.3125    ]),\n",
       " <BarContainer object of 208 artists>)"
      ]
     },
     "execution_count": 4,
     "metadata": {},
     "output_type": "execute_result"
    },
    {
     "data": {
      "image/png": "[encoded data removed]",
      "text/plain": [
       "<Figure size 432x288 with 1 Axes>"
      ]
     },
     "metadata": {
      "needs_background": "light"
     },
     "output_type": "display_data"
    }
   ],
   "source": [
    "import matplotlib.pyplot as plt \n",
    "import numpy as np\n",
    "energy_y_lst = np.array(energy_y_lst)\n",
    "q25, q75 = np.percentile(energy_y_lst, [25, 75])\n",
    "bin_width = 2 * (q75 - q25) * len(energy_y_lst) ** (-1/3)\n",
    "bins = round((energy_y_lst.max() - energy_y_lst.min()) / bin_width)\n",
    "print(\"Freedman–Diaconis number of bins:\", bins)\n",
    "plt.hist(energy_y_lst, bins=bins)"
   ]
  },
  {
   "cell_type": "code",
   "execution_count": 8,
   "metadata": {},
   "outputs": [
    {
     "data": {
      "text/plain": [
       "-406757.59375"
      ]
     },
     "execution_count": 8,
     "metadata": {},
     "output_type": "execute_result"
    }
   ],
   "source": [
    "np.argmin(energy_y_lst)\n",
    "energy_y_lst.min()"
   ]
  },
  {
   "cell_type": "code",
   "execution_count": 7,
   "metadata": {},
   "outputs": [],
   "source": [
    "# zero is equibrim state\n",
    "# coordinate noise\n",
    "import torch\n",
    "def transform_noise(data, position_noise_scale):\n",
    "    noise = torch.randn_like(torch.tensor(data)) * position_noise_scale\n",
    "    data_noise = data + noise.numpy()\n",
    "    return data_noise"
   ]
  },
  {
   "cell_type": "code",
   "execution_count": 9,
   "metadata": {},
   "outputs": [],
   "source": [
    "from sgdml.predict import GDMLPredict\n",
    "model = np.load('/home/fengshikun/Backup/Denoising/data/md17/aspirin/raw/aspirin-aims.PBE.TS.light.tier.1-train200-sym6.npz')\n",
    "gdml = GDMLPredict(model)"
   ]
  },
  {
   "cell_type": "code",
   "execution_count": 11,
   "metadata": {},
   "outputs": [
    {
     "name": "stderr",
     "output_type": "stream",
     "text": [
      "/tmp/ipykernel_2332921/3381657277.py:5: UserWarning: To copy construct from a tensor, it is recommended to use sourceTensor.clone().detach() or sourceTensor.clone().detach().requires_grad_(True), rather than torch.tensor(sourceTensor).\n",
      "  noise = torch.randn_like(torch.tensor(data)) * position_noise_scale\n"
     ]
    }
   ],
   "source": [
    "sample_num = 100\n",
    "base_pos = md17_data[0].pos\n",
    "var = 0.04\n",
    "engery_lst = []\n",
    "force_lst = []\n",
    "\n",
    "l_force_lst = []\n",
    "for i in range(sample_num):\n",
    "    noise_pos = transform_noise(base_pos, var)\n",
    "    e, f = gdml.predict(md17_data[1].pos.reshape(1, -1))\n",
    "    l_force_lst.append(noise_pos / (var**2))\n",
    "    engery_lst.append(e)\n",
    "    force_lst.append(f)\n",
    "    pass\n"
   ]
  },
  {
   "cell_type": "code",
   "execution_count": 12,
   "metadata": {},
   "outputs": [
    {
     "data": {
      "text/plain": [
       "tensor([[ 1427.8524,  -239.8085,   136.1647],\n",
       "        [  488.4089,  1203.0159,  -269.8469],\n",
       "        [ 1754.9639,   481.5988,   187.9158],\n",
       "        [ 1348.8159,  1204.1497,   -21.4439],\n",
       "        [-2171.8872,   338.8679,   -46.2856],\n",
       "        [  567.5494,  -284.5828,   -56.9600],\n",
       "        [   86.2359,   426.8927,  -246.9869],\n",
       "        [ -616.3341, -1167.3593,  -300.2554],\n",
       "        [-1048.7764,   572.1810,   861.2278],\n",
       "        [  543.0536, -1829.7305,   158.2028],\n",
       "        [  138.0709, -1112.9293,   -90.3443],\n",
       "        [-1264.5922,   421.8960,   107.1025],\n",
       "        [ -681.8130,   384.6362,  -469.0994],\n",
       "        [  254.2209, -2257.9900,   120.4432],\n",
       "        [ 1728.8496,  -786.9010,   289.3950],\n",
       "        [  206.4155,  1780.4835,  -417.0917],\n",
       "        [ 2405.1040,   556.4991,   324.9573],\n",
       "        [ 1693.9097,  1785.1106,   -58.1593],\n",
       "        [-2343.2822,  -342.3170,    -9.7402],\n",
       "        [-2569.2292,   633.8242,   388.8182],\n",
       "        [-2312.8887,   539.1121,  -684.5096]])"
      ]
     },
     "execution_count": 12,
     "metadata": {},
     "output_type": "execute_result"
    }
   ],
   "source": [
    "l_force_lst[0]"
   ]
  },
  {
   "cell_type": "code",
   "execution_count": 13,
   "metadata": {},
   "outputs": [
    {
     "data": {
      "text/plain": [
       "array([[ -1.19861306,  -3.22130565,  -1.42358821,  -2.87172542,\n",
       "        -14.20920556,  -2.4361458 ,  14.73680348,   4.42366951,\n",
       "          5.02611378,   3.99670651,  -8.17728268,  -0.89062256,\n",
       "         10.15247004,   9.01324687, -18.47962954,  15.21474101,\n",
       "        -14.03951319,   5.32275674,  17.22752595,  -0.85613952,\n",
       "         10.58833901, -18.88415199, -12.19020303,  -2.5136951 ,\n",
       "          7.15359428,   5.49409836,  29.00075274,  48.58482076,\n",
       "         -7.80991739,  14.7770454 , -42.53855859,  -5.95728162,\n",
       "        -10.89149128, -14.65693996,  -0.97592426,  29.58411104,\n",
       "        -25.00184999,   8.81718753, -43.95797858, -10.65088845,\n",
       "         18.39611116,  -6.11445589,   3.30130064,  -4.77917443,\n",
       "          1.71655743, -13.00628296,  16.76872804,  -3.84593786,\n",
       "          3.1001219 ,  -0.07650858,   0.45423587,   8.42465242,\n",
       "         18.20584858,   0.63580595,   0.34558019,  -4.0693816 ,\n",
       "          0.4733881 ,   1.54625809,  -2.82932563,   4.85358224,\n",
       "         -4.97556468,  -1.9277268 , -11.87914345]])"
      ]
     },
     "execution_count": 13,
     "metadata": {},
     "output_type": "execute_result"
    }
   ],
   "source": [
    "force_lst[0]"
   ]
  },
  {
   "cell_type": "code",
   "execution_count": 29,
   "metadata": {},
   "outputs": [
    {
     "name": "stderr",
     "output_type": "stream",
     "text": [
      "/tmp/ipykernel_2319327/3381657277.py:5: UserWarning: To copy construct from a tensor, it is recommended to use sourceTensor.clone().detach() or sourceTensor.clone().detach().requires_grad_(True), rather than torch.tensor(sourceTensor).\n",
      "  noise = torch.randn_like(torch.tensor(data)) * position_noise_scale\n"
     ]
    }
   ],
   "source": [
    "sample_num = 100\n",
    "base_pos = md17_data[0].pos\n",
    "var = 0.04\n",
    "engery_lst = []\n",
    "force_lst = []\n",
    "\n",
    "l_force_lst = []\n",
    "for i in range(sample_num):\n",
    "    noise_pos = transform_noise(base_pos, var)\n",
    "    e, f = gdml.predict(md17_data[1].pos.reshape(1, -1))\n",
    "    l_force_lst.append(noise_pos / (var**2))\n",
    "    engery_lst.append(e)\n",
    "    force_lst.append(f)\n",
    "    pass"
   ]
  },
  {
   "cell_type": "code",
   "execution_count": 1,
   "metadata": {},
   "outputs": [],
   "source": [
    "npy_file = '/share/project/sharefs-skfeng/xyz2mol/aspirin.npy'\n",
    "import numpy as np\n",
    "asp_mols = np.load(npy_file,allow_pickle=True)"
   ]
  },
  {
   "cell_type": "code",
   "execution_count": 6,
   "metadata": {},
   "outputs": [],
   "source": [
    "equi_mol = asp_mols[0]\n",
    "# print(equi_mol.GetConformer().GetPositions())\n",
    "org_pos = equi_mol.GetConformer().GetPositions()"
   ]
  },
  {
   "cell_type": "code",
   "execution_count": 10,
   "metadata": {},
   "outputs": [
    {
     "name": "stdout",
     "output_type": "stream",
     "text": [
      "[(0, 5, 10, 7), (1, 6, 12, 11), (6, 12, 11, 4)]\n"
     ]
    }
   ],
   "source": [
    "from torsion_utils import get_torsions, GetDihedral, apply_changes\n",
    "from rdkit import Chem\n",
    "no_h_mol = Chem.RemoveHs(equi_mol)\n",
    "rotable_bonds = get_torsions([no_h_mol])\n",
    "print(rotable_bonds)"
   ]
  },
  {
   "cell_type": "code",
   "execution_count": 11,
   "metadata": {},
   "outputs": [],
   "source": [
    "org_angle = []\n",
    "for rot_bond in rotable_bonds:\n",
    "    org_angle.append(GetDihedral(equi_mol.GetConformer(), rot_bond))"
   ]
  },
  {
   "cell_type": "code",
   "execution_count": 14,
   "metadata": {},
   "outputs": [
    {
     "name": "stdout",
     "output_type": "stream",
     "text": [
      "[-179.96001422864467, -93.06990750870683, -174.79257866084222]\n",
      "[-177.94055474  -98.10292896 -173.06372698]\n",
      "[-179.96001422864467, -93.06990750870683, -174.79257866084222]\n",
      "[-180.24434984  -92.82364116 -174.01438632]\n",
      "[-179.96001422864467, -93.06990750870683, -174.79257866084222]\n",
      "[-178.77668047  -95.40692719 -175.19105723]\n",
      "[-179.96001422864467, -93.06990750870683, -174.79257866084222]\n",
      "[-180.79407442  -93.65331068 -174.85803419]\n",
      "[-179.96001422864467, -93.06990750870683, -174.79257866084222]\n",
      "[-179.33013958  -91.29980537 -176.28760167]\n",
      "[-179.96001422864467, -93.06990750870683, -174.79257866084222]\n",
      "[-178.3195045   -93.38021355 -172.09909674]\n",
      "[-179.96001422864467, -93.06990750870683, -174.79257866084222]\n",
      "[-176.67813933  -92.15894266 -174.11888167]\n",
      "[-179.96001422864467, -93.06990750870683, -174.79257866084222]\n",
      "[-175.85560692  -95.2037793  -171.38531061]\n",
      "[-179.96001422864467, -93.06990750870683, -174.79257866084222]\n",
      "[-181.76584149  -91.59235784 -173.82998183]\n",
      "[-179.96001422864467, -93.06990750870683, -174.79257866084222]\n",
      "[-178.47542644  -93.57331594 -174.27113535]\n"
     ]
    }
   ],
   "source": [
    "X_lst = []\n",
    "\n",
    "sample_num = 10\n",
    "\n",
    "for i in range(sample_num):\n",
    "    dihedral_angle_noise_scale = 2\n",
    "    print(org_angle)\n",
    "    noise_angle = transform_noise(org_angle, dihedral_angle_noise_scale)\n",
    "    print(noise_angle)\n",
    "    new_mol = apply_changes(equi_mol, noise_angle, rotable_bonds)\n",
    "    new_pos = new_mol.GetConformer().GetPositions()\n",
    "    delta_pos = new_pos - org_pos\n",
    "    delta_angle = noise_angle - org_angle\n",
    "    X=np.linalg.lstsq(delta_angle.reshape(1, -1),delta_pos.reshape(1, -1),  rcond = -1)\n",
    "    X_lst.append(X[0])"
   ]
  },
  {
   "cell_type": "code",
   "execution_count": 19,
   "metadata": {},
   "outputs": [
    {
     "data": {
      "text/plain": [
       "0.0024250691629728685"
      ]
     },
     "execution_count": 19,
     "metadata": {},
     "output_type": "execute_result"
    }
   ],
   "source": [
    "(np.abs(X_lst[0] - X_lst[1])).mean()"
   ]
  },
  {
   "cell_type": "code",
   "execution_count": 25,
   "metadata": {},
   "outputs": [
    {
     "data": {
      "text/plain": [
       "0.0018809190435132121"
      ]
     },
     "execution_count": 25,
     "metadata": {},
     "output_type": "execute_result"
    }
   ],
   "source": [
    "(np.abs(X_lst[0])).mean()"
   ]
  },
  {
   "cell_type": "code",
   "execution_count": 28,
   "metadata": {},
   "outputs": [
    {
     "data": {
      "text/plain": [
       "array([[-0.00000000e+00, -0.00000000e+00, -0.00000000e+00,\n",
       "        -0.00000000e+00, -0.00000000e+00, -0.00000000e+00,\n",
       "        -0.00000000e+00, -0.00000000e+00, -0.00000000e+00,\n",
       "        -0.00000000e+00, -0.00000000e+00, -0.00000000e+00,\n",
       "         7.89251714e-04, -9.43033887e-03, -1.54759178e-04,\n",
       "        -0.00000000e+00, -0.00000000e+00, -0.00000000e+00,\n",
       "        -0.00000000e+00, -0.00000000e+00, -0.00000000e+00,\n",
       "         6.39939435e-04, -3.11976076e-04, -2.19941350e-03,\n",
       "         1.18571871e-04, -1.01031412e-02,  8.77848855e-04,\n",
       "        -7.09517690e-04,  3.45894615e-04,  2.43869529e-03,\n",
       "        -0.00000000e+00,  1.38404797e-17, -0.00000000e+00,\n",
       "         2.78329046e-04, -6.53894538e-03,  2.78766408e-04,\n",
       "        -0.00000000e+00, -0.00000000e+00, -0.00000000e+00,\n",
       "        -6.78821572e-04,  3.30932988e-04,  2.33289399e-03,\n",
       "        -0.00000000e+00, -0.00000000e+00, -0.00000000e+00,\n",
       "        -0.00000000e+00, -0.00000000e+00, -0.00000000e+00,\n",
       "        -0.00000000e+00, -0.00000000e+00, -0.00000000e+00,\n",
       "        -0.00000000e+00, -0.00000000e+00, -0.00000000e+00,\n",
       "         3.78845231e-03, -1.02468338e-02, -4.37564681e-03,\n",
       "        -4.87022072e-04, -1.40849883e-02,  2.16029087e-03,\n",
       "        -5.64170363e-04, -6.05053450e-03,  1.43757433e-03],\n",
       "       [ 0.00000000e+00,  0.00000000e+00,  0.00000000e+00,\n",
       "         0.00000000e+00,  0.00000000e+00,  0.00000000e+00,\n",
       "         0.00000000e+00,  0.00000000e+00,  0.00000000e+00,\n",
       "         0.00000000e+00,  0.00000000e+00,  0.00000000e+00,\n",
       "        -1.96702179e-03,  2.35028720e-02,  3.85700365e-04,\n",
       "         0.00000000e+00,  0.00000000e+00,  0.00000000e+00,\n",
       "         0.00000000e+00,  0.00000000e+00,  0.00000000e+00,\n",
       "        -1.59489652e-03,  7.77526012e-04,  5.48151393e-03,\n",
       "        -2.95512128e-04,  2.51796713e-02, -2.18782904e-03,\n",
       "         1.76830374e-03, -8.62059888e-04, -6.07786678e-03,\n",
       "         0.00000000e+00, -3.44940968e-17,  0.00000000e+00,\n",
       "        -6.93668811e-04,  1.62967629e-02, -6.94758830e-04,\n",
       "         0.00000000e+00,  0.00000000e+00,  0.00000000e+00,\n",
       "         1.69180098e-03, -8.24771597e-04, -5.81418224e-03,\n",
       "         0.00000000e+00,  0.00000000e+00,  0.00000000e+00,\n",
       "         0.00000000e+00,  0.00000000e+00,  0.00000000e+00,\n",
       "         0.00000000e+00,  0.00000000e+00,  0.00000000e+00,\n",
       "         0.00000000e+00,  0.00000000e+00,  0.00000000e+00,\n",
       "        -9.44181445e-03,  2.55377909e-02,  1.09052568e-02,\n",
       "         1.21378644e-03,  3.51034763e-02, -5.38401011e-03,\n",
       "         1.40606017e-03,  1.50795152e-02, -3.58281139e-03],\n",
       "       [ 0.00000000e+00,  0.00000000e+00,  0.00000000e+00,\n",
       "         0.00000000e+00,  0.00000000e+00,  0.00000000e+00,\n",
       "         0.00000000e+00,  0.00000000e+00,  0.00000000e+00,\n",
       "         0.00000000e+00,  0.00000000e+00,  0.00000000e+00,\n",
       "         6.75675426e-04, -8.07327767e-03, -1.32488750e-04,\n",
       "         0.00000000e+00,  0.00000000e+00,  0.00000000e+00,\n",
       "         0.00000000e+00,  0.00000000e+00,  0.00000000e+00,\n",
       "         5.47849745e-04, -2.67081546e-04, -1.88290963e-03,\n",
       "         1.01508933e-04, -8.64926117e-03,  7.51523105e-04,\n",
       "        -6.07415428e-04,  2.96119080e-04,  2.08775788e-03,\n",
       "         0.00000000e+00,  1.18487826e-17,  0.00000000e+00,\n",
       "         2.38276451e-04, -5.59796657e-03,  2.38650874e-04,\n",
       "         0.00000000e+00,  0.00000000e+00,  0.00000000e+00,\n",
       "        -5.81136596e-04,  2.83310487e-04,  1.99718178e-03,\n",
       "         0.00000000e+00,  0.00000000e+00,  0.00000000e+00,\n",
       "         0.00000000e+00,  0.00000000e+00,  0.00000000e+00,\n",
       "         0.00000000e+00,  0.00000000e+00,  0.00000000e+00,\n",
       "         0.00000000e+00,  0.00000000e+00,  0.00000000e+00,\n",
       "         3.24327979e-03, -8.77227587e-03, -3.74597479e-03,\n",
       "        -4.16937765e-04, -1.20581055e-02,  1.84941690e-03,\n",
       "        -4.82984128e-04, -5.17983985e-03,  1.23070198e-03]])"
      ]
     },
     "execution_count": 28,
     "metadata": {},
     "output_type": "execute_result"
    }
   ],
   "source": [
    "X_lst[0]"
   ]
  },
  {
   "cell_type": "code",
   "execution_count": 221,
   "metadata": {},
   "outputs": [
    {
     "data": {
      "text/plain": [
       "array([[ 0.        ,  0.        ,  0.        ,  0.        ,  0.        ,\n",
       "         0.        ,  0.        ,  0.        ,  0.        ,  0.        ,\n",
       "         0.        ,  0.        , -0.00299793,  0.03106409, -0.00493738,\n",
       "         0.        ,  0.        ,  0.        ,  0.        ,  0.        ,\n",
       "         0.        , -0.00837038,  0.00404453,  0.03239896,  0.00286983,\n",
       "        -0.0394458 ,  0.00517062,  0.0092804 , -0.00448422, -0.03592373,\n",
       "         0.        ,  0.        ,  0.        ,  0.00017128, -0.00538441,\n",
       "         0.00044723,  0.        ,  0.        ,  0.        ,  0.00887903,\n",
       "        -0.00429033, -0.03436525,  0.        ,  0.        ,  0.        ,\n",
       "         0.        ,  0.        ,  0.        ,  0.        ,  0.        ,\n",
       "         0.        ,  0.        ,  0.        ,  0.        , -0.02422324,\n",
       "         0.03480305, -0.03000291,  0.00768164,  0.02582839,  0.00782787,\n",
       "         0.00525592,  0.05891856,  0.00346892]])"
      ]
     },
     "execution_count": 221,
     "metadata": {},
     "output_type": "execute_result"
    }
   ],
   "source": [
    "np.dot(delta_angle.reshape(1, -1), X[0])"
   ]
  },
  {
   "cell_type": "code",
   "execution_count": 30,
   "metadata": {},
   "outputs": [
    {
     "ename": "NameError",
     "evalue": "name 'tqdm' is not defined",
     "output_type": "error",
     "traceback": [
      "\u001b[0;31m---------------------------------------------------------------------------\u001b[0m",
      "\u001b[0;31mNameError\u001b[0m                                 Traceback (most recent call last)",
      "\u001b[0;32m/tmp/ipykernel_2352018/982189694.py\u001b[0m in \u001b[0;36m<module>\u001b[0;34m\u001b[0m\n\u001b[1;32m      6\u001b[0m \u001b[0;34m\u001b[0m\u001b[0m\n\u001b[1;32m      7\u001b[0m \u001b[0ml_force_lst\u001b[0m \u001b[0;34m=\u001b[0m \u001b[0;34m[\u001b[0m\u001b[0;34m]\u001b[0m\u001b[0;34m\u001b[0m\u001b[0;34m\u001b[0m\u001b[0m\n\u001b[0;32m----> 8\u001b[0;31m \u001b[0;32mfor\u001b[0m \u001b[0mi\u001b[0m \u001b[0;32min\u001b[0m \u001b[0mtqdm\u001b[0m\u001b[0;34m(\u001b[0m\u001b[0mrange\u001b[0m\u001b[0;34m(\u001b[0m\u001b[0msample_num\u001b[0m\u001b[0;34m)\u001b[0m\u001b[0;34m)\u001b[0m\u001b[0;34m:\u001b[0m\u001b[0;34m\u001b[0m\u001b[0;34m\u001b[0m\u001b[0m\n\u001b[0m\u001b[1;32m      9\u001b[0m     \u001b[0;31m# coord noise\u001b[0m\u001b[0;34m\u001b[0m\u001b[0;34m\u001b[0m\u001b[0;34m\u001b[0m\u001b[0m\n\u001b[1;32m     10\u001b[0m     \u001b[0mnoise_pos\u001b[0m \u001b[0;34m=\u001b[0m \u001b[0mtransform_noise\u001b[0m\u001b[0;34m(\u001b[0m\u001b[0mbase_pos\u001b[0m\u001b[0;34m,\u001b[0m \u001b[0mtau\u001b[0m\u001b[0;34m)\u001b[0m\u001b[0;34m.\u001b[0m\u001b[0mnumpy\u001b[0m\u001b[0;34m(\u001b[0m\u001b[0;34m)\u001b[0m\u001b[0;34m\u001b[0m\u001b[0;34m\u001b[0m\u001b[0m\n",
      "\u001b[0;31mNameError\u001b[0m: name 'tqdm' is not defined"
     ]
    }
   ],
   "source": [
    "sample_num = 1000\n",
    "base_pos = md17_data[0].pos\n",
    "tau = 0.04\n",
    "engery_lst = []\n",
    "force_lst = []\n",
    "\n",
    "l_force_lst = []\n",
    "for i in tqdm(range(sample_num)):\n",
    "    # coord noise\n",
    "    noise_pos = transform_noise(base_pos, tau).numpy()\n",
    "    e, f = gdml.predict(noise_pos.reshape(1, -1))\n",
    "    # predict force field\n",
    "    engery_lst.append(e)\n",
    "    force_lst.append(f)\n",
    "    # estimated force field\n",
    "    l_force_lst.append( (base_pos-noise_pos).numpy() / (tau**2))\n",
    "\n",
    "\n",
    "from scipy.stats import pearsonr\n",
    "pear_lst = []\n",
    "for i in range(sample_num):\n",
    "    res = pearsonr(l_force_lst[i].flatten(), force_lst[i].flatten())\n",
    "    pear_lst.append(res[0])\n",
    "np.mean(pear_lst)"
   ]
  },
  {
   "cell_type": "code",
   "execution_count": 225,
   "metadata": {},
   "outputs": [
    {
     "name": "stdout",
     "output_type": "stream",
     "text": [
      "Freedman–Diaconis number of bins: 29\n"
     ]
    },
    {
     "data": {
      "text/plain": [
       "(array([  3.,   2.,  14.,  32.,  47.,  82.,  97., 105., 107., 106.,  87.,\n",
       "         93.,  63.,  41.,  46.,  16.,  24.,  14.,   6.,   5.,   1.,   6.,\n",
       "          1.,   0.,   0.,   0.,   1.,   0.,   1.]),\n",
       " array([-406749.84669685, -406746.58612343, -406743.32555001,\n",
       "        -406740.06497658, -406736.80440316, -406733.54382974,\n",
       "        -406730.28325632, -406727.0226829 , -406723.76210947,\n",
       "        -406720.50153605, -406717.24096263, -406713.98038921,\n",
       "        -406710.71981578, -406707.45924236, -406704.19866894,\n",
       "        -406700.93809552, -406697.6775221 , -406694.41694867,\n",
       "        -406691.15637525, -406687.89580183, -406684.63522841,\n",
       "        -406681.37465498, -406678.11408156, -406674.85350814,\n",
       "        -406671.59293472, -406668.3323613 , -406665.07178787,\n",
       "        -406661.81121445, -406658.55064103, -406655.29006761]),\n",
       " <BarContainer object of 29 artists>)"
      ]
     },
     "execution_count": 225,
     "metadata": {},
     "output_type": "execute_result"
    },
    {
     "data": {
      "image/png": "[encoded data removed]",
      "text/plain": [
       "<Figure size 432x288 with 1 Axes>"
      ]
     },
     "metadata": {
      "needs_background": "light"
     },
     "output_type": "display_data"
    }
   ],
   "source": [
    "import matplotlib.pyplot as plt \n",
    "\n",
    "energy_y_lst = np.array(engery_lst)\n",
    "q25, q75 = np.percentile(energy_y_lst, [25, 75])\n",
    "bin_width = 2 * (q75 - q25) * len(energy_y_lst) ** (-1/3)\n",
    "bins = round((energy_y_lst.max() - energy_y_lst.min()) / bin_width)\n",
    "print(\"Freedman–Diaconis number of bins:\", bins)\n",
    "plt.hist(energy_y_lst, bins=bins)"
   ]
  },
  {
   "cell_type": "code",
   "execution_count": 226,
   "metadata": {},
   "outputs": [],
   "source": [
    "def get_SIGMA(C, sigma, tau, N, m):\n",
    "    C1 = C[:m, :] # m x m\n",
    "    C2 = C[m:, :] # (3N - m) x m\n",
    "    # print(C2.shape)\n",
    "\n",
    "    SIGMA_lt =  (tau ** 2) * np.identity(m) + (sigma ** 2) * np.dot(C1, C1.T) # left top\n",
    "    SIGMA_lb = (sigma ** 2) * np.dot(C2, C1.T) # left bottom\n",
    "    SIGMA_rt = (sigma ** 2) * np.dot(C1, C2.T) # right top\n",
    "    SIGMA_rb = (tau ** 2) * np.identity(3*N - m) + (sigma ** 2) * np.dot(C2, C2.T) # right bottom\n",
    "\n",
    "    SIGMA = np.zeros((3*N, 3*N), dtype=np.float32) # 3N x 3N\n",
    "    SIGMA[:m, :m] = SIGMA_lt # m x m\n",
    "    SIGMA[m:, :m] = SIGMA_lb # (3N - m) x m\n",
    "    SIGMA[:m, m:] = SIGMA_rt # m x (3N - m)\n",
    "    SIGMA[m:, m:] = SIGMA_rb # (3N - m) * (3N -m)\n",
    "\n",
    "    return SIGMA\n"
   ]
  },
  {
   "cell_type": "code",
   "execution_count": 227,
   "metadata": {},
   "outputs": [
    {
     "name": "stdout",
     "output_type": "stream",
     "text": [
      "[(0, 5, 10, 7), (1, 6, 12, 11), (6, 12, 11, 4)]\n"
     ]
    },
    {
     "name": "stderr",
     "output_type": "stream",
     "text": [
      "100%|██████████| 1000/1000 [00:14<00:00, 67.38it/s]\n"
     ]
    }
   ],
   "source": [
    "no_h_mol = Chem.RemoveHs(equi_mol)\n",
    "rotable_bonds = get_torsions([no_h_mol])\n",
    "print(rotable_bonds)\n",
    "\n",
    "org_angle = []\n",
    "for rot_bond in rotable_bonds:\n",
    "    org_angle.append(GetDihedral(equi_mol.GetConformer(), rot_bond))\n",
    "\n",
    "sample_num = 1000\n",
    "base_pos = md17_data[0].pos\n",
    "tau = 0.04\n",
    "sigma = 2\n",
    "N = base_pos.shape[0]\n",
    "m = len(org_angle)\n",
    "engery_lst = []\n",
    "force_lst = []\n",
    "a_force_lst = []\n",
    "for i in tqdm(range(sample_num)):\n",
    "    # angle noise\n",
    "    noise_angle = transform_noise(org_angle, sigma)\n",
    "    new_mol = apply_changes(equi_mol, noise_angle, rotable_bonds)\n",
    "    new_pos = new_mol.GetConformer().GetPositions()\n",
    "    delta_pos = new_pos - org_pos\n",
    "    delta_angle = noise_angle - org_angle\n",
    "    \n",
    "    C=np.linalg.lstsq(delta_angle.reshape(1, -1),delta_pos.reshape(1, -1),  rcond = -1)[0].T\n",
    "    SIGMA = get_SIGMA(C, sigma, tau, N, m)\n",
    "    SIGMA_reverse = np.linalg.inv(SIGMA)\n",
    "\n",
    "    # coord noise\n",
    "    noise_pos = transform_noise(new_pos, tau)\n",
    "    e, f = gdml.predict(noise_pos.reshape(1, -1))\n",
    "    # predict force \n",
    "    engery_lst.append(e)\n",
    "    force_lst.append(f)\n",
    "    \n",
    "    # estimate force\n",
    "    a_force = SIGMA_reverse.dot((base_pos - noise_pos).reshape(-1, 1).numpy()).flatten()\n",
    "    a_force_lst.append(a_force)\n",
    "    \n",
    "    pass"
   ]
  },
  {
   "cell_type": "code",
   "execution_count": 228,
   "metadata": {},
   "outputs": [
    {
     "data": {
      "text/plain": [
       "0.5819597216516975"
      ]
     },
     "execution_count": 228,
     "metadata": {},
     "output_type": "execute_result"
    }
   ],
   "source": [
    "from scipy.stats import pearsonr\n",
    "pear_lst = []\n",
    "for i in range(sample_num):\n",
    "    res = pearsonr(a_force_lst[i].flatten(), force_lst[i].flatten())\n",
    "    pear_lst.append(res[0])\n",
    "np.mean(pear_lst)"
   ]
  },
  {
   "cell_type": "code",
   "execution_count": 217,
   "metadata": {},
   "outputs": [
    {
     "name": "stdout",
     "output_type": "stream",
     "text": [
      "[-28.02800634  28.64996236 -11.31603628   9.91106673   1.7473637\n",
      "   9.75409754  21.78293665  23.68721144  -8.39807694 -27.72242201\n",
      " -19.90780615 -56.33997605 -23.13063493 -30.15816834 -30.26542319\n",
      "  -8.16806657  31.64376491  15.89413974  -9.9000343  -13.55653854\n",
      "  22.92155168  -5.84946503 -14.33306828 -11.37568193   6.98977942\n",
      "  -8.48252511 -10.04471802  -2.33009075 -15.56770994  21.54722071\n",
      "  11.76649032  -3.16692816  -3.1123923  -11.49357649  16.24866179\n",
      " -11.65504124 -64.06320825  23.34886113  -7.95939042  19.56103336\n",
      "  32.19655814 -30.78223633   3.57011332  -3.65452352  36.3685051\n",
      " -38.60526072 -40.24677692 -40.13732365 -41.09481442  28.95343383\n",
      "  15.4339319   28.97644339 -14.81263016 -27.88149261 -21.67871949\n",
      "  38.94353026  16.43065477 -17.46916186  21.88060303  -2.90744948\n",
      " -27.978164   -20.54432732   5.40213816] [[-115.83302381   54.48082423  -43.08087387   81.7914583    50.82601998\n",
      "    28.05011871  108.65146533   49.98480962   23.15046315  -92.24701396\n",
      "   -71.96581437  -34.23850611   11.98015469  -86.68180245 -113.72275508\n",
      "    54.26834946   39.20280182   14.87002467   80.08573939  -61.80216549\n",
      "    39.39299698  -90.3914092   -21.16593328  -15.43183344   16.89894093\n",
      "     0.63238527   26.18627478   22.61301645  -75.51675792   23.034318\n",
      "    20.28697662    1.14321061   -4.08624193    9.93190616   19.59030741\n",
      "    32.34490782 -136.8900521     9.71665805  -53.31691421   18.98809056\n",
      "    67.2696474    -9.68251993   52.45885618  -82.20355518   21.97940534\n",
      "   -14.49980182   -4.85004457   -5.06095324  -42.27212691   -1.63623325\n",
      "    -5.41541573   29.5340299    40.03420636    4.98291624   10.82260416\n",
      "    51.38465021    2.40507538  -26.88113096   29.21134803   46.06516683\n",
      "     0.70297063   -7.65456244   21.57434583]]\n"
     ]
    }
   ],
   "source": [
    "a_force_lst[0]\n",
    "print(a_force_lst[0],force_lst[0])"
   ]
  },
  {
   "cell_type": "markdown",
   "metadata": {},
   "source": []
  },
  {
   "cell_type": "code",
   "execution_count": 184,
   "metadata": {},
   "outputs": [
    {
     "name": "stdout",
     "output_type": "stream",
     "text": [
      "Freedman–Diaconis number of bins: 28\n"
     ]
    },
    {
     "data": {
      "text/plain": [
       "(array([  5.,   4.,  23.,  30.,  60.,  85.,  96., 101., 126.,  97.,  84.,\n",
       "         77.,  60.,  52.,  34.,  22.,  14.,   9.,   9.,   2.,   4.,   1.,\n",
       "          0.,   2.,   2.,   0.,   0.,   1.]),\n",
       " array([-406749.77425694, -406746.47104386, -406743.16783078,\n",
       "        -406739.8646177 , -406736.56140462, -406733.25819154,\n",
       "        -406729.95497846, -406726.65176538, -406723.3485523 ,\n",
       "        -406720.04533922, -406716.74212614, -406713.43891306,\n",
       "        -406710.13569998, -406706.8324869 , -406703.52927382,\n",
       "        -406700.22606074, -406696.92284766, -406693.61963458,\n",
       "        -406690.3164215 , -406687.01320842, -406683.70999534,\n",
       "        -406680.40678226, -406677.10356918, -406673.8003561 ,\n",
       "        -406670.49714302, -406667.19392994, -406663.89071686,\n",
       "        -406660.58750378, -406657.2842907 ]),\n",
       " <BarContainer object of 28 artists>)"
      ]
     },
     "execution_count": 184,
     "metadata": {},
     "output_type": "execute_result"
    },
    {
     "data": {
      "image/png": "[encoded data removed]",
      "text/plain": [
       "<Figure size 432x288 with 1 Axes>"
      ]
     },
     "metadata": {
      "needs_background": "light"
     },
     "output_type": "display_data"
    }
   ],
   "source": [
    "import matplotlib.pyplot as plt \n",
    "\n",
    "energy_y_lst = np.array(engery_lst)\n",
    "q25, q75 = np.percentile(energy_y_lst, [25, 75])\n",
    "bin_width = 2 * (q75 - q25) * len(energy_y_lst) ** (-1/3)\n",
    "bins = round((energy_y_lst.max() - energy_y_lst.min()) / bin_width)\n",
    "print(\"Freedman–Diaconis number of bins:\", bins)\n",
    "plt.hist(energy_y_lst, bins=bins)"
   ]
  },
  {
   "cell_type": "code",
   "execution_count": null,
   "metadata": {},
   "outputs": [],
   "source": []
  }
 ],
 "metadata": {
  "kernelspec": {
   "display_name": "base",
   "language": "python",
   "name": "python3"
  },
  "language_info": {
   "codemirror_mode": {
    "name": "ipython",
    "version": 3
   },
   "file_extension": ".py",
   "mimetype": "text/x-python",
   "name": "python",
   "nbconvert_exporter": "python",
   "pygments_lexer": "ipython3",
   "version": "3.8.12 | packaged by conda-forge | (default, Sep 29 2021, 19:52:28) \n[GCC 9.4.0]"
  },
  "orig_nbformat": 4,
  "vscode": {
   "interpreter": {
    "hash": "d4d1e4263499bec80672ea0156c357c1ee493ec2b1c70f0acce89fc37c4a6abe"
   }
  }
 },
 "nbformat": 4,
 "nbformat_minor": 2
}
