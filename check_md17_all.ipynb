{
 "cells": [
  {
   "cell_type": "code",
   "execution_count": 1,
   "metadata": {},
   "outputs": [],
   "source": [
    "from rdkit import Chem\n",
    "from ipywidgets import interact, interactive, fixed\n",
    "import py3Dmol\n",
    "from rdkit.Chem import AllChem\n",
    "from rdkit.Chem.Draw import IPythonConsole\n",
    "IPythonConsole.ipython_useSVG = True\n",
    "\n",
    "from torchmdnet.datasets import MD17\n",
    "import numpy as np\n",
    "\n",
    "md17_mols_type = ['aspirin', 'benzene2017', 'ethanol', 'malonaldehyde', 'naphthalene', 'salicylic', 'toluene', 'uracil']\n",
    "md17_mols_type = ['benzene2017', 'ethanol', 'malonaldehyde', 'naphthalene', 'salicylic', 'toluene', 'uracil']\n",
    "\n",
    "def MolTo3DView(mol, size=(300, 300), style=\"stick\", surface=False, opacity=0.5):\n",
    "    \"\"\"Draw molecule in 3D\n",
    "    \n",
    "    Args:\n",
    "    ----\n",
    "        mol: rdMol, molecule to show\n",
    "        size: tuple(int, int), canvas size\n",
    "        style: str, type of drawing molecule\n",
    "               style can be 'line', 'stick', 'sphere', 'carton'\n",
    "        surface, bool, display SAS\n",
    "        opacity, float, opacity of surface, range 0.0-1.0\n",
    "    Return:\n",
    "    ----\n",
    "        viewer: py3Dmol.view, a class for constructing embedded 3Dmol.js views in ipython notebooks.\n",
    "    \"\"\"\n",
    "    assert style in ('line', 'stick', 'sphere', 'carton')\n",
    "    mblock = Chem.MolToMolBlock(mol)\n",
    "    viewer = py3Dmol.view(width=size[0], height=size[1])\n",
    "    viewer.addModel(mblock, 'mol')\n",
    "    viewer.setStyle({style:{}})\n",
    "    # viewer.addPropertyLabels(\"atom\",\"\",\"\")\n",
    "\n",
    "    # for i, at in enumerate(mol):\n",
    "    #     default = {\"stick\": {'color': 'black'}}\n",
    "    #     viewer.setStyle({'model': -1, 'serial': i+1}, at.get(\"pymol\", default))\n",
    "\n",
    "    if surface:\n",
    "        viewer.addSurface(py3Dmol.SAS, {'opacity': opacity})\n",
    "    viewer.zoomTo()\n",
    "    return viewer\n",
    "\n",
    "base_dir = '/home/fengshikun/MD17_data'"
   ]
  },
  {
   "cell_type": "code",
   "execution_count": 2,
   "metadata": {},
   "outputs": [],
   "source": [
    "show_mol_lst = []\n",
    "for mol_type in md17_mols_type:\n",
    "    mol_lst = np.load(f'{base_dir}/{mol_type}.npy', allow_pickle=True)\n",
    "    show_mol_lst.append(mol_lst[0])"
   ]
  },
  {
   "cell_type": "code",
   "execution_count": 3,
   "metadata": {},
   "outputs": [
    {
     "name": "stdout",
     "output_type": "stream",
     "text": [
      "[]\n",
      "[(2, 0, 1, 5), (1, 0, 2, 8)]\n",
      "[(4, 0, 1, 2), (0, 1, 2, 3)]\n",
      "[]\n",
      "[(2, 1, 0, 8), (1, 0, 9, 15), (1, 2, 3, 10)]\n",
      "[(2, 1, 0, 7)]\n",
      "[]\n"
     ]
    }
   ],
   "source": [
    "from torsion_utils import get_torsions, GetDihedral, apply_changes\n",
    "from rdkit import Chem\n",
    "\n",
    "for s_mol in show_mol_lst:\n",
    "    # no_h_mol = Chem.RemoveHs(s_mol)\n",
    "    rotable_bonds = get_torsions([s_mol])\n",
    "    print(rotable_bonds)"
   ]
  },
  {
   "cell_type": "code",
   "execution_count": 4,
   "metadata": {},
   "outputs": [],
   "source": [
    "import numpy as np\n",
    "asp_mol_lst = np.load('new_asp_lst.npy', allow_pickle=True)\n",
    "# asp_mol_lst[0]"
   ]
  },
  {
   "cell_type": "code",
   "execution_count": 13,
   "metadata": {},
   "outputs": [
    {
     "data": {
      "application/3dmoljs_load.v0": "<div id=\"3dmolviewer_1673416509680369\"  style=\"position: relative; width: 600px; height: 300px\">\n        <p id=\"3dmolwarning_1673416509680369\" style=\"background-color:#ffcccc;color:black\">You appear to be running in JupyterLab (or JavaScript failed to load for some other reason).  You need to install the 3dmol extension: <br>\n        <tt>jupyter labextension install jupyterlab_3dmol</tt></p>\n        </div>\n<script>\n\nvar loadScriptAsync = function(uri){\n  return new Promise((resolve, reject) => {\n    //this is to ignore the existence of requirejs amd\n    var savedexports, savedmodule;\n    if (typeof exports !== 'undefined') savedexports = exports;\n    else exports = {}\n    if (typeof module !== 'undefined') savedmodule = module;\n    else module = {}\n\n    var tag = document.createElement('script');\n    tag.src = uri;\n    tag.async = true;\n    tag.onload = () => {\n        exports = savedexports;\n        module = savedmodule;\n        resolve();\n    };\n  var firstScriptTag = document.getElementsByTagName('script')[0];\n  firstScriptTag.parentNode.insertBefore(tag, firstScriptTag);\n});\n};\n\nif(typeof $3Dmolpromise === 'undefined') {\n$3Dmolpromise = null;\n  $3Dmolpromise = loadScriptAsync('https://cdn.jsdelivr.net/npm/3dmol@latest/build/3Dmol-min.min.js');\n}\n\nvar viewer_1673416509680369 = null;\nvar warn = document.getElementById(\"3dmolwarning_1673416509680369\");\nif(warn) {\n    warn.parentNode.removeChild(warn);\n}\n$3Dmolpromise.then(function() {\nviewer_1673416509680369 = $3Dmol.createViewer(document.getElementById(\"3dmolviewer_1673416509680369\"),{backgroundColor:\"white\"});\nviewer_1673416509680369.zoomTo();\n\tviewer_1673416509680369.addModel(\"\\n     RDKit          3D\\n\\n 12 12  0  0  0  0  0  0  0  0999 V2000\\n    0.0000    1.3970    0.0000 C   0  0  0  0  0  0  0  0  0  0  0  0\\n    1.2098    0.6985    0.0000 C   0  0  0  0  0  0  0  0  0  0  0  0\\n    1.2098   -0.6985    0.0000 C   0  0  0  0  0  0  0  0  0  0  0  0\\n    0.0000   -1.3970    0.0000 C   0  0  0  0  0  0  0  0  0  0  0  0\\n   -1.2098   -0.6985    0.0000 C   0  0  0  0  0  0  0  0  0  0  0  0\\n   -1.2098    0.6985    0.0000 C   0  0  0  0  0  0  0  0  0  0  0  0\\n    0.0000    2.4810    0.0000 H   0  0  0  0  0  0  0  0  0  0  0  0\\n    2.1486    1.2405    0.0000 H   0  0  0  0  0  0  0  0  0  0  0  0\\n    2.1486   -1.2405    0.0000 H   0  0  0  0  0  0  0  0  0  0  0  0\\n    0.0000   -2.4810    0.0000 H   0  0  0  0  0  0  0  0  0  0  0  0\\n   -2.1486   -1.2405    0.0000 H   0  0  0  0  0  0  0  0  0  0  0  0\\n   -2.1486    1.2405    0.0000 H   0  0  0  0  0  0  0  0  0  0  0  0\\n  1  2  2  0\\n  1  6  1  0\\n  1  7  1  0\\n  2  3  1  0\\n  2  8  1  0\\n  3  4  2  0\\n  3  9  1  0\\n  4  5  1  0\\n  4 10  1  0\\n  5  6  2  0\\n  5 11  1  0\\n  6 12  1  0\\nM  END\\n\",\"mol\");\n\tviewer_1673416509680369.setStyle({\"stick\": {}});\n\tviewer_1673416509680369.zoomTo();\nviewer_1673416509680369.render();\n});\n</script>",
      "text/html": [
       "<div id=\"3dmolviewer_1673416509680369\"  style=\"position: relative; width: 600px; height: 300px\">\n",
       "        <p id=\"3dmolwarning_1673416509680369\" style=\"background-color:#ffcccc;color:black\">You appear to be running in JupyterLab (or JavaScript failed to load for some other reason).  You need to install the 3dmol extension: <br>\n",
       "        <tt>jupyter labextension install jupyterlab_3dmol</tt></p>\n",
       "        </div>\n",
       "<script>\n",
       "\n",
       "var loadScriptAsync = function(uri){\n",
       "  return new Promise((resolve, reject) => {\n",
       "    //this is to ignore the existence of requirejs amd\n",
       "    var savedexports, savedmodule;\n",
       "    if (typeof exports !== 'undefined') savedexports = exports;\n",
       "    else exports = {}\n",
       "    if (typeof module !== 'undefined') savedmodule = module;\n",
       "    else module = {}\n",
       "\n",
       "    var tag = document.createElement('script');\n",
       "    tag.src = uri;\n",
       "    tag.async = true;\n",
       "    tag.onload = () => {\n",
       "        exports = savedexports;\n",
       "        module = savedmodule;\n",
       "        resolve();\n",
       "    };\n",
       "  var firstScriptTag = document.getElementsByTagName('script')[0];\n",
       "  firstScriptTag.parentNode.insertBefore(tag, firstScriptTag);\n",
       "});\n",
       "};\n",
       "\n",
       "if(typeof $3Dmolpromise === 'undefined') {\n",
       "$3Dmolpromise = null;\n",
       "  $3Dmolpromise = loadScriptAsync('https://cdn.jsdelivr.net/npm/3dmol@latest/build/3Dmol-min.min.js');\n",
       "}\n",
       "\n",
       "var viewer_1673416509680369 = null;\n",
       "var warn = document.getElementById(\"3dmolwarning_1673416509680369\");\n",
       "if(warn) {\n",
       "    warn.parentNode.removeChild(warn);\n",
       "}\n",
       "$3Dmolpromise.then(function() {\n",
       "viewer_1673416509680369 = $3Dmol.createViewer(document.getElementById(\"3dmolviewer_1673416509680369\"),{backgroundColor:\"white\"});\n",
       "viewer_1673416509680369.zoomTo();\n",
       "\tviewer_1673416509680369.addModel(\"\\n     RDKit          3D\\n\\n 12 12  0  0  0  0  0  0  0  0999 V2000\\n    0.0000    1.3970    0.0000 C   0  0  0  0  0  0  0  0  0  0  0  0\\n    1.2098    0.6985    0.0000 C   0  0  0  0  0  0  0  0  0  0  0  0\\n    1.2098   -0.6985    0.0000 C   0  0  0  0  0  0  0  0  0  0  0  0\\n    0.0000   -1.3970    0.0000 C   0  0  0  0  0  0  0  0  0  0  0  0\\n   -1.2098   -0.6985    0.0000 C   0  0  0  0  0  0  0  0  0  0  0  0\\n   -1.2098    0.6985    0.0000 C   0  0  0  0  0  0  0  0  0  0  0  0\\n    0.0000    2.4810    0.0000 H   0  0  0  0  0  0  0  0  0  0  0  0\\n    2.1486    1.2405    0.0000 H   0  0  0  0  0  0  0  0  0  0  0  0\\n    2.1486   -1.2405    0.0000 H   0  0  0  0  0  0  0  0  0  0  0  0\\n    0.0000   -2.4810    0.0000 H   0  0  0  0  0  0  0  0  0  0  0  0\\n   -2.1486   -1.2405    0.0000 H   0  0  0  0  0  0  0  0  0  0  0  0\\n   -2.1486    1.2405    0.0000 H   0  0  0  0  0  0  0  0  0  0  0  0\\n  1  2  2  0\\n  1  6  1  0\\n  1  7  1  0\\n  2  3  1  0\\n  2  8  1  0\\n  3  4  2  0\\n  3  9  1  0\\n  4  5  1  0\\n  4 10  1  0\\n  5  6  2  0\\n  5 11  1  0\\n  6 12  1  0\\nM  END\\n\",\"mol\");\n",
       "\tviewer_1673416509680369.setStyle({\"stick\": {}});\n",
       "\tviewer_1673416509680369.zoomTo();\n",
       "viewer_1673416509680369.render();\n",
       "});\n",
       "</script>"
      ]
     },
     "metadata": {},
     "output_type": "display_data"
    }
   ],
   "source": [
    "viewer = MolTo3DView(show_mol_lst[0], size=(600, 300), style='stick')\n",
    "viewer.show()\n",
    "# asp_mol_lst[0]"
   ]
  },
  {
   "cell_type": "code",
   "execution_count": null,
   "metadata": {},
   "outputs": [],
   "source": []
  },
  {
   "cell_type": "code",
   "execution_count": 7,
   "metadata": {},
   "outputs": [
    {
     "data": {
      "application/3dmoljs_load.v0": "<div id=\"3dmolviewer_16734164879453402\"  style=\"position: relative; width: 600px; height: 300px\">\n        <p id=\"3dmolwarning_16734164879453402\" style=\"background-color:#ffcccc;color:black\">You appear to be running in JupyterLab (or JavaScript failed to load for some other reason).  You need to install the 3dmol extension: <br>\n        <tt>jupyter labextension install jupyterlab_3dmol</tt></p>\n        </div>\n<script>\n\nvar loadScriptAsync = function(uri){\n  return new Promise((resolve, reject) => {\n    //this is to ignore the existence of requirejs amd\n    var savedexports, savedmodule;\n    if (typeof exports !== 'undefined') savedexports = exports;\n    else exports = {}\n    if (typeof module !== 'undefined') savedmodule = module;\n    else module = {}\n\n    var tag = document.createElement('script');\n    tag.src = uri;\n    tag.async = true;\n    tag.onload = () => {\n        exports = savedexports;\n        module = savedmodule;\n        resolve();\n    };\n  var firstScriptTag = document.getElementsByTagName('script')[0];\n  firstScriptTag.parentNode.insertBefore(tag, firstScriptTag);\n});\n};\n\nif(typeof $3Dmolpromise === 'undefined') {\n$3Dmolpromise = null;\n  $3Dmolpromise = loadScriptAsync('https://cdn.jsdelivr.net/npm/3dmol@latest/build/3Dmol-min.min.js');\n}\n\nvar viewer_16734164879453402 = null;\nvar warn = document.getElementById(\"3dmolwarning_16734164879453402\");\nif(warn) {\n    warn.parentNode.removeChild(warn);\n}\n$3Dmolpromise.then(function() {\nviewer_16734164879453402 = $3Dmol.createViewer(document.getElementById(\"3dmolviewer_16734164879453402\"),{backgroundColor:\"white\"});\nviewer_16734164879453402.zoomTo();\n\tviewer_16734164879453402.addModel(\"\\n     RDKit          3D\\n\\n  9  8  0  0  0  0  0  0  0  0999 V2000\\n    0.0072   -0.5687    0.0000 C   0  0  1  0  0  0  0  0  0  0  0  0\\n   -1.2854    0.2499    0.0000 C   0  0  1  0  0  0  0  0  0  0  0  0\\n    1.1304    0.3147    0.0000 O   0  0  0  0  0  0  0  0  0  0  0  0\\n    0.0392   -1.1972    0.8900 H   0  0  0  0  0  0  0  0  0  0  0  0\\n    0.0392   -1.1972   -0.8900 H   0  0  0  0  0  0  0  0  0  0  0  0\\n   -1.3175    0.8784    0.8900 H   0  0  0  0  0  0  0  0  0  0  0  0\\n   -1.3175    0.8784   -0.8900 H   0  0  0  0  0  0  0  0  0  0  0  0\\n   -2.1422   -0.4239    0.0000 H   0  0  0  0  0  0  0  0  0  0  0  0\\n    1.9857   -0.1365    0.0000 H   0  0  0  0  0  0  0  0  0  0  0  0\\n  1  2  1  0\\n  1  3  1  0\\n  1  4  1  6\\n  1  5  1  0\\n  2  6  1  6\\n  2  7  1  0\\n  2  8  1  0\\n  3  9  1  0\\nM  END\\n\",\"mol\");\n\tviewer_16734164879453402.setStyle({\"stick\": {}});\n\tviewer_16734164879453402.zoomTo();\nviewer_16734164879453402.render();\n});\n</script>",
      "text/html": [
       "<div id=\"3dmolviewer_16734164879453402\"  style=\"position: relative; width: 600px; height: 300px\">\n",
       "        <p id=\"3dmolwarning_16734164879453402\" style=\"background-color:#ffcccc;color:black\">You appear to be running in JupyterLab (or JavaScript failed to load for some other reason).  You need to install the 3dmol extension: <br>\n",
       "        <tt>jupyter labextension install jupyterlab_3dmol</tt></p>\n",
       "        </div>\n",
       "<script>\n",
       "\n",
       "var loadScriptAsync = function(uri){\n",
       "  return new Promise((resolve, reject) => {\n",
       "    //this is to ignore the existence of requirejs amd\n",
       "    var savedexports, savedmodule;\n",
       "    if (typeof exports !== 'undefined') savedexports = exports;\n",
       "    else exports = {}\n",
       "    if (typeof module !== 'undefined') savedmodule = module;\n",
       "    else module = {}\n",
       "\n",
       "    var tag = document.createElement('script');\n",
       "    tag.src = uri;\n",
       "    tag.async = true;\n",
       "    tag.onload = () => {\n",
       "        exports = savedexports;\n",
       "        module = savedmodule;\n",
       "        resolve();\n",
       "    };\n",
       "  var firstScriptTag = document.getElementsByTagName('script')[0];\n",
       "  firstScriptTag.parentNode.insertBefore(tag, firstScriptTag);\n",
       "});\n",
       "};\n",
       "\n",
       "if(typeof $3Dmolpromise === 'undefined') {\n",
       "$3Dmolpromise = null;\n",
       "  $3Dmolpromise = loadScriptAsync('https://cdn.jsdelivr.net/npm/3dmol@latest/build/3Dmol-min.min.js');\n",
       "}\n",
       "\n",
       "var viewer_16734164879453402 = null;\n",
       "var warn = document.getElementById(\"3dmolwarning_16734164879453402\");\n",
       "if(warn) {\n",
       "    warn.parentNode.removeChild(warn);\n",
       "}\n",
       "$3Dmolpromise.then(function() {\n",
       "viewer_16734164879453402 = $3Dmol.createViewer(document.getElementById(\"3dmolviewer_16734164879453402\"),{backgroundColor:\"white\"});\n",
       "viewer_16734164879453402.zoomTo();\n",
       "\tviewer_16734164879453402.addModel(\"\\n     RDKit          3D\\n\\n  9  8  0  0  0  0  0  0  0  0999 V2000\\n    0.0072   -0.5687    0.0000 C   0  0  1  0  0  0  0  0  0  0  0  0\\n   -1.2854    0.2499    0.0000 C   0  0  1  0  0  0  0  0  0  0  0  0\\n    1.1304    0.3147    0.0000 O   0  0  0  0  0  0  0  0  0  0  0  0\\n    0.0392   -1.1972    0.8900 H   0  0  0  0  0  0  0  0  0  0  0  0\\n    0.0392   -1.1972   -0.8900 H   0  0  0  0  0  0  0  0  0  0  0  0\\n   -1.3175    0.8784    0.8900 H   0  0  0  0  0  0  0  0  0  0  0  0\\n   -1.3175    0.8784   -0.8900 H   0  0  0  0  0  0  0  0  0  0  0  0\\n   -2.1422   -0.4239    0.0000 H   0  0  0  0  0  0  0  0  0  0  0  0\\n    1.9857   -0.1365    0.0000 H   0  0  0  0  0  0  0  0  0  0  0  0\\n  1  2  1  0\\n  1  3  1  0\\n  1  4  1  6\\n  1  5  1  0\\n  2  6  1  6\\n  2  7  1  0\\n  2  8  1  0\\n  3  9  1  0\\nM  END\\n\",\"mol\");\n",
       "\tviewer_16734164879453402.setStyle({\"stick\": {}});\n",
       "\tviewer_16734164879453402.zoomTo();\n",
       "viewer_16734164879453402.render();\n",
       "});\n",
       "</script>"
      ]
     },
     "metadata": {},
     "output_type": "display_data"
    }
   ],
   "source": [
    "viewer = MolTo3DView(show_mol_lst[1], size=(600, 300), style='stick')\n",
    "viewer.show()"
   ]
  },
  {
   "cell_type": "code",
   "execution_count": 8,
   "metadata": {},
   "outputs": [
    {
     "data": {
      "application/3dmoljs_load.v0": "<div id=\"3dmolviewer_16734164902736208\"  style=\"position: relative; width: 600px; height: 300px\">\n        <p id=\"3dmolwarning_16734164902736208\" style=\"background-color:#ffcccc;color:black\">You appear to be running in JupyterLab (or JavaScript failed to load for some other reason).  You need to install the 3dmol extension: <br>\n        <tt>jupyter labextension install jupyterlab_3dmol</tt></p>\n        </div>\n<script>\n\nvar loadScriptAsync = function(uri){\n  return new Promise((resolve, reject) => {\n    //this is to ignore the existence of requirejs amd\n    var savedexports, savedmodule;\n    if (typeof exports !== 'undefined') savedexports = exports;\n    else exports = {}\n    if (typeof module !== 'undefined') savedmodule = module;\n    else module = {}\n\n    var tag = document.createElement('script');\n    tag.src = uri;\n    tag.async = true;\n    tag.onload = () => {\n        exports = savedexports;\n        module = savedmodule;\n        resolve();\n    };\n  var firstScriptTag = document.getElementsByTagName('script')[0];\n  firstScriptTag.parentNode.insertBefore(tag, firstScriptTag);\n});\n};\n\nif(typeof $3Dmolpromise === 'undefined') {\n$3Dmolpromise = null;\n  $3Dmolpromise = loadScriptAsync('https://cdn.jsdelivr.net/npm/3dmol@latest/build/3Dmol-min.min.js');\n}\n\nvar viewer_16734164902736208 = null;\nvar warn = document.getElementById(\"3dmolwarning_16734164902736208\");\nif(warn) {\n    warn.parentNode.removeChild(warn);\n}\n$3Dmolpromise.then(function() {\nviewer_16734164902736208 = $3Dmol.createViewer(document.getElementById(\"3dmolviewer_16734164902736208\"),{backgroundColor:\"white\"});\nviewer_16734164902736208.zoomTo();\n\tviewer_16734164902736208.addModel(\"\\n     RDKit          3D\\n\\n  9  8  0  0  0  0  0  0  0  0999 V2000\\n    1.1705    0.2287   -0.3792 C   0  0  0  0  0  0  0  0  0  0  0  0\\n    0.0000   -0.6414    0.0001 C   0  0  1  0  0  0  0  0  0  0  0  0\\n   -1.1706    0.2288    0.3792 C   0  0  0  0  0  0  0  0  0  0  0  0\\n   -2.2331    0.0875   -0.1770 O   0  0  0  0  0  0  0  0  0  0  0  0\\n    2.2330    0.0876    0.1771 O   0  0  0  0  0  0  0  0  0  0  0  0\\n    1.0604    0.9753   -1.1517 H   0  0  0  0  0  0  0  0  0  0  0  0\\n   -0.2743   -1.2708   -0.8464 H   0  0  0  0  0  0  0  0  0  0  0  0\\n    0.2743   -1.2705    0.8469 H   0  0  0  0  0  0  0  0  0  0  0  0\\n   -1.0592    0.9787    1.1484 H   0  0  0  0  0  0  0  0  0  0  0  0\\n  1  2  1  0\\n  1  5  2  0\\n  1  6  1  0\\n  2  3  1  0\\n  2  7  1  6\\n  2  8  1  0\\n  3  4  2  0\\n  3  9  1  0\\nM  END\\n\",\"mol\");\n\tviewer_16734164902736208.setStyle({\"stick\": {}});\n\tviewer_16734164902736208.zoomTo();\nviewer_16734164902736208.render();\n});\n</script>",
      "text/html": [
       "<div id=\"3dmolviewer_16734164902736208\"  style=\"position: relative; width: 600px; height: 300px\">\n",
       "        <p id=\"3dmolwarning_16734164902736208\" style=\"background-color:#ffcccc;color:black\">You appear to be running in JupyterLab (or JavaScript failed to load for some other reason).  You need to install the 3dmol extension: <br>\n",
       "        <tt>jupyter labextension install jupyterlab_3dmol</tt></p>\n",
       "        </div>\n",
       "<script>\n",
       "\n",
       "var loadScriptAsync = function(uri){\n",
       "  return new Promise((resolve, reject) => {\n",
       "    //this is to ignore the existence of requirejs amd\n",
       "    var savedexports, savedmodule;\n",
       "    if (typeof exports !== 'undefined') savedexports = exports;\n",
       "    else exports = {}\n",
       "    if (typeof module !== 'undefined') savedmodule = module;\n",
       "    else module = {}\n",
       "\n",
       "    var tag = document.createElement('script');\n",
       "    tag.src = uri;\n",
       "    tag.async = true;\n",
       "    tag.onload = () => {\n",
       "        exports = savedexports;\n",
       "        module = savedmodule;\n",
       "        resolve();\n",
       "    };\n",
       "  var firstScriptTag = document.getElementsByTagName('script')[0];\n",
       "  firstScriptTag.parentNode.insertBefore(tag, firstScriptTag);\n",
       "});\n",
       "};\n",
       "\n",
       "if(typeof $3Dmolpromise === 'undefined') {\n",
       "$3Dmolpromise = null;\n",
       "  $3Dmolpromise = loadScriptAsync('https://cdn.jsdelivr.net/npm/3dmol@latest/build/3Dmol-min.min.js');\n",
       "}\n",
       "\n",
       "var viewer_16734164902736208 = null;\n",
       "var warn = document.getElementById(\"3dmolwarning_16734164902736208\");\n",
       "if(warn) {\n",
       "    warn.parentNode.removeChild(warn);\n",
       "}\n",
       "$3Dmolpromise.then(function() {\n",
       "viewer_16734164902736208 = $3Dmol.createViewer(document.getElementById(\"3dmolviewer_16734164902736208\"),{backgroundColor:\"white\"});\n",
       "viewer_16734164902736208.zoomTo();\n",
       "\tviewer_16734164902736208.addModel(\"\\n     RDKit          3D\\n\\n  9  8  0  0  0  0  0  0  0  0999 V2000\\n    1.1705    0.2287   -0.3792 C   0  0  0  0  0  0  0  0  0  0  0  0\\n    0.0000   -0.6414    0.0001 C   0  0  1  0  0  0  0  0  0  0  0  0\\n   -1.1706    0.2288    0.3792 C   0  0  0  0  0  0  0  0  0  0  0  0\\n   -2.2331    0.0875   -0.1770 O   0  0  0  0  0  0  0  0  0  0  0  0\\n    2.2330    0.0876    0.1771 O   0  0  0  0  0  0  0  0  0  0  0  0\\n    1.0604    0.9753   -1.1517 H   0  0  0  0  0  0  0  0  0  0  0  0\\n   -0.2743   -1.2708   -0.8464 H   0  0  0  0  0  0  0  0  0  0  0  0\\n    0.2743   -1.2705    0.8469 H   0  0  0  0  0  0  0  0  0  0  0  0\\n   -1.0592    0.9787    1.1484 H   0  0  0  0  0  0  0  0  0  0  0  0\\n  1  2  1  0\\n  1  5  2  0\\n  1  6  1  0\\n  2  3  1  0\\n  2  7  1  6\\n  2  8  1  0\\n  3  4  2  0\\n  3  9  1  0\\nM  END\\n\",\"mol\");\n",
       "\tviewer_16734164902736208.setStyle({\"stick\": {}});\n",
       "\tviewer_16734164902736208.zoomTo();\n",
       "viewer_16734164902736208.render();\n",
       "});\n",
       "</script>"
      ]
     },
     "metadata": {},
     "output_type": "display_data"
    }
   ],
   "source": [
    "viewer = MolTo3DView(show_mol_lst[2], size=(600, 300), style='stick')\n",
    "viewer.show()"
   ]
  },
  {
   "cell_type": "code",
   "execution_count": 9,
   "metadata": {},
   "outputs": [
    {
     "data": {
      "application/3dmoljs_load.v0": "<div id=\"3dmolviewer_16734164922012365\"  style=\"position: relative; width: 600px; height: 300px\">\n        <p id=\"3dmolwarning_16734164922012365\" style=\"background-color:#ffcccc;color:black\">You appear to be running in JupyterLab (or JavaScript failed to load for some other reason).  You need to install the 3dmol extension: <br>\n        <tt>jupyter labextension install jupyterlab_3dmol</tt></p>\n        </div>\n<script>\n\nvar loadScriptAsync = function(uri){\n  return new Promise((resolve, reject) => {\n    //this is to ignore the existence of requirejs amd\n    var savedexports, savedmodule;\n    if (typeof exports !== 'undefined') savedexports = exports;\n    else exports = {}\n    if (typeof module !== 'undefined') savedmodule = module;\n    else module = {}\n\n    var tag = document.createElement('script');\n    tag.src = uri;\n    tag.async = true;\n    tag.onload = () => {\n        exports = savedexports;\n        module = savedmodule;\n        resolve();\n    };\n  var firstScriptTag = document.getElementsByTagName('script')[0];\n  firstScriptTag.parentNode.insertBefore(tag, firstScriptTag);\n});\n};\n\nif(typeof $3Dmolpromise === 'undefined') {\n$3Dmolpromise = null;\n  $3Dmolpromise = loadScriptAsync('https://cdn.jsdelivr.net/npm/3dmol@latest/build/3Dmol-min.min.js');\n}\n\nvar viewer_16734164922012365 = null;\nvar warn = document.getElementById(\"3dmolwarning_16734164922012365\");\nif(warn) {\n    warn.parentNode.removeChild(warn);\n}\n$3Dmolpromise.then(function() {\nviewer_16734164922012365 = $3Dmol.createViewer(document.getElementById(\"3dmolviewer_16734164922012365\"),{backgroundColor:\"white\"});\nviewer_16734164922012365.zoomTo();\n\tviewer_16734164922012365.addModel(\"\\n     RDKit          3D\\n\\n 18 19  0  0  0  0  0  0  0  0999 V2000\\n   -1.2248   -1.3976   -0.0002 C   0  0  0  0  0  0  0  0  0  0  0  0\\n   -2.3916   -0.6968   -0.0001 C   0  0  0  0  0  0  0  0  0  0  0  0\\n   -2.3916    0.6968   -0.0002 C   0  0  0  0  0  0  0  0  0  0  0  0\\n   -1.2248    1.3976    0.0001 C   0  0  0  0  0  0  0  0  0  0  0  0\\n    0.0000    0.7087    0.0004 C   0  0  0  0  0  0  0  0  0  0  0  0\\n    1.2248    1.3976    0.0001 C   0  0  0  0  0  0  0  0  0  0  0  0\\n    2.3916    0.6968    0.0000 C   0  0  0  0  0  0  0  0  0  0  0  0\\n    2.3916   -0.6968   -0.0002 C   0  0  0  0  0  0  0  0  0  0  0  0\\n    1.2248   -1.3976    0.0000 C   0  0  0  0  0  0  0  0  0  0  0  0\\n    0.0000   -0.7087    0.0001 C   0  0  0  0  0  0  0  0  0  0  0  0\\n   -1.2402   -2.4775    0.0040 H   0  0  0  0  0  0  0  0  0  0  0  0\\n   -3.3315   -1.2287   -0.0003 H   0  0  0  0  0  0  0  0  0  0  0  0\\n   -3.3315    1.2287   -0.0008 H   0  0  0  0  0  0  0  0  0  0  0  0\\n   -1.2402    2.4775   -0.0003 H   0  0  0  0  0  0  0  0  0  0  0  0\\n    1.2403    2.4775   -0.0004 H   0  0  0  0  0  0  0  0  0  0  0  0\\n    3.3315    1.2287   -0.0002 H   0  0  0  0  0  0  0  0  0  0  0  0\\n    3.3315   -1.2287   -0.0009 H   0  0  0  0  0  0  0  0  0  0  0  0\\n    1.2402   -2.4775   -0.0005 H   0  0  0  0  0  0  0  0  0  0  0  0\\n  1  2  2  0\\n  1 10  1  0\\n  1 11  1  0\\n  2  3  1  0\\n  2 12  1  0\\n  3  4  2  0\\n  3 13  1  0\\n  4  5  1  0\\n  4 14  1  0\\n  5  6  1  0\\n  5 10  2  0\\n  6  7  2  0\\n  6 15  1  0\\n  7  8  1  0\\n  7 16  1  0\\n  8  9  2  0\\n  8 17  1  0\\n  9 10  1  0\\n  9 18  1  0\\nM  END\\n\",\"mol\");\n\tviewer_16734164922012365.setStyle({\"stick\": {}});\n\tviewer_16734164922012365.zoomTo();\nviewer_16734164922012365.render();\n});\n</script>",
      "text/html": [
       "<div id=\"3dmolviewer_16734164922012365\"  style=\"position: relative; width: 600px; height: 300px\">\n",
       "        <p id=\"3dmolwarning_16734164922012365\" style=\"background-color:#ffcccc;color:black\">You appear to be running in JupyterLab (or JavaScript failed to load for some other reason).  You need to install the 3dmol extension: <br>\n",
       "        <tt>jupyter labextension install jupyterlab_3dmol</tt></p>\n",
       "        </div>\n",
       "<script>\n",
       "\n",
       "var loadScriptAsync = function(uri){\n",
       "  return new Promise((resolve, reject) => {\n",
       "    //this is to ignore the existence of requirejs amd\n",
       "    var savedexports, savedmodule;\n",
       "    if (typeof exports !== 'undefined') savedexports = exports;\n",
       "    else exports = {}\n",
       "    if (typeof module !== 'undefined') savedmodule = module;\n",
       "    else module = {}\n",
       "\n",
       "    var tag = document.createElement('script');\n",
       "    tag.src = uri;\n",
       "    tag.async = true;\n",
       "    tag.onload = () => {\n",
       "        exports = savedexports;\n",
       "        module = savedmodule;\n",
       "        resolve();\n",
       "    };\n",
       "  var firstScriptTag = document.getElementsByTagName('script')[0];\n",
       "  firstScriptTag.parentNode.insertBefore(tag, firstScriptTag);\n",
       "});\n",
       "};\n",
       "\n",
       "if(typeof $3Dmolpromise === 'undefined') {\n",
       "$3Dmolpromise = null;\n",
       "  $3Dmolpromise = loadScriptAsync('https://cdn.jsdelivr.net/npm/3dmol@latest/build/3Dmol-min.min.js');\n",
       "}\n",
       "\n",
       "var viewer_16734164922012365 = null;\n",
       "var warn = document.getElementById(\"3dmolwarning_16734164922012365\");\n",
       "if(warn) {\n",
       "    warn.parentNode.removeChild(warn);\n",
       "}\n",
       "$3Dmolpromise.then(function() {\n",
       "viewer_16734164922012365 = $3Dmol.createViewer(document.getElementById(\"3dmolviewer_16734164922012365\"),{backgroundColor:\"white\"});\n",
       "viewer_16734164922012365.zoomTo();\n",
       "\tviewer_16734164922012365.addModel(\"\\n     RDKit          3D\\n\\n 18 19  0  0  0  0  0  0  0  0999 V2000\\n   -1.2248   -1.3976   -0.0002 C   0  0  0  0  0  0  0  0  0  0  0  0\\n   -2.3916   -0.6968   -0.0001 C   0  0  0  0  0  0  0  0  0  0  0  0\\n   -2.3916    0.6968   -0.0002 C   0  0  0  0  0  0  0  0  0  0  0  0\\n   -1.2248    1.3976    0.0001 C   0  0  0  0  0  0  0  0  0  0  0  0\\n    0.0000    0.7087    0.0004 C   0  0  0  0  0  0  0  0  0  0  0  0\\n    1.2248    1.3976    0.0001 C   0  0  0  0  0  0  0  0  0  0  0  0\\n    2.3916    0.6968    0.0000 C   0  0  0  0  0  0  0  0  0  0  0  0\\n    2.3916   -0.6968   -0.0002 C   0  0  0  0  0  0  0  0  0  0  0  0\\n    1.2248   -1.3976    0.0000 C   0  0  0  0  0  0  0  0  0  0  0  0\\n    0.0000   -0.7087    0.0001 C   0  0  0  0  0  0  0  0  0  0  0  0\\n   -1.2402   -2.4775    0.0040 H   0  0  0  0  0  0  0  0  0  0  0  0\\n   -3.3315   -1.2287   -0.0003 H   0  0  0  0  0  0  0  0  0  0  0  0\\n   -3.3315    1.2287   -0.0008 H   0  0  0  0  0  0  0  0  0  0  0  0\\n   -1.2402    2.4775   -0.0003 H   0  0  0  0  0  0  0  0  0  0  0  0\\n    1.2403    2.4775   -0.0004 H   0  0  0  0  0  0  0  0  0  0  0  0\\n    3.3315    1.2287   -0.0002 H   0  0  0  0  0  0  0  0  0  0  0  0\\n    3.3315   -1.2287   -0.0009 H   0  0  0  0  0  0  0  0  0  0  0  0\\n    1.2402   -2.4775   -0.0005 H   0  0  0  0  0  0  0  0  0  0  0  0\\n  1  2  2  0\\n  1 10  1  0\\n  1 11  1  0\\n  2  3  1  0\\n  2 12  1  0\\n  3  4  2  0\\n  3 13  1  0\\n  4  5  1  0\\n  4 14  1  0\\n  5  6  1  0\\n  5 10  2  0\\n  6  7  2  0\\n  6 15  1  0\\n  7  8  1  0\\n  7 16  1  0\\n  8  9  2  0\\n  8 17  1  0\\n  9 10  1  0\\n  9 18  1  0\\nM  END\\n\",\"mol\");\n",
       "\tviewer_16734164922012365.setStyle({\"stick\": {}});\n",
       "\tviewer_16734164922012365.zoomTo();\n",
       "viewer_16734164922012365.render();\n",
       "});\n",
       "</script>"
      ]
     },
     "metadata": {},
     "output_type": "display_data"
    }
   ],
   "source": [
    "viewer = MolTo3DView(show_mol_lst[3], size=(600, 300), style='stick')\n",
    "viewer.show()"
   ]
  },
  {
   "cell_type": "code",
   "execution_count": 10,
   "metadata": {},
   "outputs": [
    {
     "data": {
      "application/3dmoljs_load.v0": "<div id=\"3dmolviewer_16734164939351182\"  style=\"position: relative; width: 600px; height: 300px\">\n        <p id=\"3dmolwarning_16734164939351182\" style=\"background-color:#ffcccc;color:black\">You appear to be running in JupyterLab (or JavaScript failed to load for some other reason).  You need to install the 3dmol extension: <br>\n        <tt>jupyter labextension install jupyterlab_3dmol</tt></p>\n        </div>\n<script>\n\nvar loadScriptAsync = function(uri){\n  return new Promise((resolve, reject) => {\n    //this is to ignore the existence of requirejs amd\n    var savedexports, savedmodule;\n    if (typeof exports !== 'undefined') savedexports = exports;\n    else exports = {}\n    if (typeof module !== 'undefined') savedmodule = module;\n    else module = {}\n\n    var tag = document.createElement('script');\n    tag.src = uri;\n    tag.async = true;\n    tag.onload = () => {\n        exports = savedexports;\n        module = savedmodule;\n        resolve();\n    };\n  var firstScriptTag = document.getElementsByTagName('script')[0];\n  firstScriptTag.parentNode.insertBefore(tag, firstScriptTag);\n});\n};\n\nif(typeof $3Dmolpromise === 'undefined') {\n$3Dmolpromise = null;\n  $3Dmolpromise = loadScriptAsync('https://cdn.jsdelivr.net/npm/3dmol@latest/build/3Dmol-min.min.js');\n}\n\nvar viewer_16734164939351182 = null;\nvar warn = document.getElementById(\"3dmolwarning_16734164939351182\");\nif(warn) {\n    warn.parentNode.removeChild(warn);\n}\n$3Dmolpromise.then(function() {\nviewer_16734164939351182 = $3Dmol.createViewer(document.getElementById(\"3dmolviewer_16734164939351182\"),{backgroundColor:\"white\"});\nviewer_16734164939351182.zoomTo();\n\tviewer_16734164939351182.addModel(\"\\n     RDKit          3D\\n\\n 16 16  0  0  0  0  0  0  0  0999 V2000\\n    1.6347   -0.2302    0.0038 C   0  0  0  0  0  0  0  0  0  0  0  0\\n    0.1609   -0.2571    0.0038 C   0  0  0  0  0  0  0  0  0  0  0  0\\n   -0.5664    0.9417    0.0164 C   0  0  0  0  0  0  0  0  0  0  0  0\\n    0.0830    2.1326    0.0286 O   0  0  0  0  0  0  0  0  0  0  0  0\\n   -1.9526    0.9042    0.0158 C   0  0  0  0  0  0  0  0  0  0  0  0\\n   -2.6123   -0.3089    0.0028 C   0  0  0  0  0  0  0  0  0  0  0  0\\n   -1.8977   -1.4954   -0.0092 C   0  0  0  0  0  0  0  0  0  0  0  0\\n   -0.5197   -1.4773   -0.0146 C   0  0  0  0  0  0  0  0  0  0  0  0\\n    2.2229    0.8329    0.0147 O   0  0  0  0  0  0  0  0  0  0  0  0\\n    2.3296   -1.3847   -0.0027 O   0  0  0  0  0  0  0  0  0  0  0  0\\n    0.2711    2.4870   -0.8512 H   0  0  0  0  0  0  0  0  0  0  0  0\\n   -2.5170    1.8250    0.0258 H   0  0  0  0  0  0  0  0  0  0  0  0\\n   -3.6921   -0.3326    0.0024 H   0  0  0  0  0  0  0  0  0  0  0  0\\n   -2.4228   -2.4391   -0.0185 H   0  0  0  0  0  0  0  0  0  0  0  0\\n    0.0333   -2.4049   -0.0240 H   0  0  0  0  0  0  0  0  0  0  0  0\\n    3.2942   -1.3165   -0.0025 H   0  0  0  0  0  0  0  0  0  0  0  0\\n  1  2  1  0\\n  1  9  2  0\\n  1 10  1  0\\n  2  3  2  0\\n  2  8  1  0\\n  3  4  1  0\\n  3  5  1  0\\n  4 11  1  0\\n  5  6  2  0\\n  5 12  1  0\\n  6  7  1  0\\n  6 13  1  0\\n  7  8  2  0\\n  7 14  1  0\\n  8 15  1  0\\n 10 16  1  0\\nM  END\\n\",\"mol\");\n\tviewer_16734164939351182.setStyle({\"stick\": {}});\n\tviewer_16734164939351182.zoomTo();\nviewer_16734164939351182.render();\n});\n</script>",
      "text/html": [
       "<div id=\"3dmolviewer_16734164939351182\"  style=\"position: relative; width: 600px; height: 300px\">\n",
       "        <p id=\"3dmolwarning_16734164939351182\" style=\"background-color:#ffcccc;color:black\">You appear to be running in JupyterLab (or JavaScript failed to load for some other reason).  You need to install the 3dmol extension: <br>\n",
       "        <tt>jupyter labextension install jupyterlab_3dmol</tt></p>\n",
       "        </div>\n",
       "<script>\n",
       "\n",
       "var loadScriptAsync = function(uri){\n",
       "  return new Promise((resolve, reject) => {\n",
       "    //this is to ignore the existence of requirejs amd\n",
       "    var savedexports, savedmodule;\n",
       "    if (typeof exports !== 'undefined') savedexports = exports;\n",
       "    else exports = {}\n",
       "    if (typeof module !== 'undefined') savedmodule = module;\n",
       "    else module = {}\n",
       "\n",
       "    var tag = document.createElement('script');\n",
       "    tag.src = uri;\n",
       "    tag.async = true;\n",
       "    tag.onload = () => {\n",
       "        exports = savedexports;\n",
       "        module = savedmodule;\n",
       "        resolve();\n",
       "    };\n",
       "  var firstScriptTag = document.getElementsByTagName('script')[0];\n",
       "  firstScriptTag.parentNode.insertBefore(tag, firstScriptTag);\n",
       "});\n",
       "};\n",
       "\n",
       "if(typeof $3Dmolpromise === 'undefined') {\n",
       "$3Dmolpromise = null;\n",
       "  $3Dmolpromise = loadScriptAsync('https://cdn.jsdelivr.net/npm/3dmol@latest/build/3Dmol-min.min.js');\n",
       "}\n",
       "\n",
       "var viewer_16734164939351182 = null;\n",
       "var warn = document.getElementById(\"3dmolwarning_16734164939351182\");\n",
       "if(warn) {\n",
       "    warn.parentNode.removeChild(warn);\n",
       "}\n",
       "$3Dmolpromise.then(function() {\n",
       "viewer_16734164939351182 = $3Dmol.createViewer(document.getElementById(\"3dmolviewer_16734164939351182\"),{backgroundColor:\"white\"});\n",
       "viewer_16734164939351182.zoomTo();\n",
       "\tviewer_16734164939351182.addModel(\"\\n     RDKit          3D\\n\\n 16 16  0  0  0  0  0  0  0  0999 V2000\\n    1.6347   -0.2302    0.0038 C   0  0  0  0  0  0  0  0  0  0  0  0\\n    0.1609   -0.2571    0.0038 C   0  0  0  0  0  0  0  0  0  0  0  0\\n   -0.5664    0.9417    0.0164 C   0  0  0  0  0  0  0  0  0  0  0  0\\n    0.0830    2.1326    0.0286 O   0  0  0  0  0  0  0  0  0  0  0  0\\n   -1.9526    0.9042    0.0158 C   0  0  0  0  0  0  0  0  0  0  0  0\\n   -2.6123   -0.3089    0.0028 C   0  0  0  0  0  0  0  0  0  0  0  0\\n   -1.8977   -1.4954   -0.0092 C   0  0  0  0  0  0  0  0  0  0  0  0\\n   -0.5197   -1.4773   -0.0146 C   0  0  0  0  0  0  0  0  0  0  0  0\\n    2.2229    0.8329    0.0147 O   0  0  0  0  0  0  0  0  0  0  0  0\\n    2.3296   -1.3847   -0.0027 O   0  0  0  0  0  0  0  0  0  0  0  0\\n    0.2711    2.4870   -0.8512 H   0  0  0  0  0  0  0  0  0  0  0  0\\n   -2.5170    1.8250    0.0258 H   0  0  0  0  0  0  0  0  0  0  0  0\\n   -3.6921   -0.3326    0.0024 H   0  0  0  0  0  0  0  0  0  0  0  0\\n   -2.4228   -2.4391   -0.0185 H   0  0  0  0  0  0  0  0  0  0  0  0\\n    0.0333   -2.4049   -0.0240 H   0  0  0  0  0  0  0  0  0  0  0  0\\n    3.2942   -1.3165   -0.0025 H   0  0  0  0  0  0  0  0  0  0  0  0\\n  1  2  1  0\\n  1  9  2  0\\n  1 10  1  0\\n  2  3  2  0\\n  2  8  1  0\\n  3  4  1  0\\n  3  5  1  0\\n  4 11  1  0\\n  5  6  2  0\\n  5 12  1  0\\n  6  7  1  0\\n  6 13  1  0\\n  7  8  2  0\\n  7 14  1  0\\n  8 15  1  0\\n 10 16  1  0\\nM  END\\n\",\"mol\");\n",
       "\tviewer_16734164939351182.setStyle({\"stick\": {}});\n",
       "\tviewer_16734164939351182.zoomTo();\n",
       "viewer_16734164939351182.render();\n",
       "});\n",
       "</script>"
      ]
     },
     "metadata": {},
     "output_type": "display_data"
    }
   ],
   "source": [
    "viewer = MolTo3DView(show_mol_lst[4], size=(600, 300), style='stick')\n",
    "viewer.show()"
   ]
  },
  {
   "cell_type": "code",
   "execution_count": 11,
   "metadata": {},
   "outputs": [
    {
     "data": {
      "application/3dmoljs_load.v0": "<div id=\"3dmolviewer_16734164957954166\"  style=\"position: relative; width: 600px; height: 300px\">\n        <p id=\"3dmolwarning_16734164957954166\" style=\"background-color:#ffcccc;color:black\">You appear to be running in JupyterLab (or JavaScript failed to load for some other reason).  You need to install the 3dmol extension: <br>\n        <tt>jupyter labextension install jupyterlab_3dmol</tt></p>\n        </div>\n<script>\n\nvar loadScriptAsync = function(uri){\n  return new Promise((resolve, reject) => {\n    //this is to ignore the existence of requirejs amd\n    var savedexports, savedmodule;\n    if (typeof exports !== 'undefined') savedexports = exports;\n    else exports = {}\n    if (typeof module !== 'undefined') savedmodule = module;\n    else module = {}\n\n    var tag = document.createElement('script');\n    tag.src = uri;\n    tag.async = true;\n    tag.onload = () => {\n        exports = savedexports;\n        module = savedmodule;\n        resolve();\n    };\n  var firstScriptTag = document.getElementsByTagName('script')[0];\n  firstScriptTag.parentNode.insertBefore(tag, firstScriptTag);\n});\n};\n\nif(typeof $3Dmolpromise === 'undefined') {\n$3Dmolpromise = null;\n  $3Dmolpromise = loadScriptAsync('https://cdn.jsdelivr.net/npm/3dmol@latest/build/3Dmol-min.min.js');\n}\n\nvar viewer_16734164957954166 = null;\nvar warn = document.getElementById(\"3dmolwarning_16734164957954166\");\nif(warn) {\n    warn.parentNode.removeChild(warn);\n}\n$3Dmolpromise.then(function() {\nviewer_16734164957954166 = $3Dmol.createViewer(document.getElementById(\"3dmolviewer_16734164957954166\"),{backgroundColor:\"white\"});\nviewer_16734164957954166.zoomTo();\n\tviewer_16734164957954166.addModel(\"\\n     RDKit          3D\\n\\n 15 15  0  0  0  0  0  0  0  0999 V2000\\n    2.4329    0.0000    0.0010 C   0  0  1  0  0  0  0  0  0  0  0  0\\n    0.9259    0.0000    0.0010 C   0  0  0  0  0  0  0  0  0  0  0  0\\n    0.2347    1.1972   -0.0006 C   0  0  0  0  0  0  0  0  0  0  0  0\\n   -1.1476    1.1972   -0.0006 C   0  0  0  0  0  0  0  0  0  0  0  0\\n   -1.8388    0.0000    0.0007 C   0  0  0  0  0  0  0  0  0  0  0  0\\n   -1.1476   -1.1972    0.0014 C   0  0  0  0  0  0  0  0  0  0  0  0\\n    0.2347   -1.1971   -0.0030 C   0  0  0  0  0  0  0  0  0  0  0  0\\n    2.7962    0.0014    1.0286 H   0  0  0  0  0  0  0  0  0  0  0  0\\n    2.7962   -0.8907   -0.5116 H   0  0  0  0  0  0  0  0  0  0  0  0\\n    2.7962    0.8893   -0.5141 H   0  0  0  0  0  0  0  0  0  0  0  0\\n    0.7747    2.1325   -0.0016 H   0  0  0  0  0  0  0  0  0  0  0  0\\n   -1.6876    2.1325   -0.0011 H   0  0  0  0  0  0  0  0  0  0  0  0\\n   -2.9188    0.0000    0.0015 H   0  0  0  0  0  0  0  0  0  0  0  0\\n   -1.6876   -2.1325    0.0027 H   0  0  0  0  0  0  0  0  0  0  0  0\\n    0.7747   -2.1325   -0.0025 H   0  0  0  0  0  0  0  0  0  0  0  0\\n  1  2  1  0\\n  1  8  1  1\\n  1  9  1  0\\n  1 10  1  0\\n  2  3  2  0\\n  2  7  1  0\\n  3  4  1  0\\n  3 11  1  0\\n  4  5  2  0\\n  4 12  1  0\\n  5  6  1  0\\n  5 13  1  0\\n  6  7  2  0\\n  6 14  1  0\\n  7 15  1  0\\nM  END\\n\",\"mol\");\n\tviewer_16734164957954166.setStyle({\"stick\": {}});\n\tviewer_16734164957954166.zoomTo();\nviewer_16734164957954166.render();\n});\n</script>",
      "text/html": [
       "<div id=\"3dmolviewer_16734164957954166\"  style=\"position: relative; width: 600px; height: 300px\">\n",
       "        <p id=\"3dmolwarning_16734164957954166\" style=\"background-color:#ffcccc;color:black\">You appear to be running in JupyterLab (or JavaScript failed to load for some other reason).  You need to install the 3dmol extension: <br>\n",
       "        <tt>jupyter labextension install jupyterlab_3dmol</tt></p>\n",
       "        </div>\n",
       "<script>\n",
       "\n",
       "var loadScriptAsync = function(uri){\n",
       "  return new Promise((resolve, reject) => {\n",
       "    //this is to ignore the existence of requirejs amd\n",
       "    var savedexports, savedmodule;\n",
       "    if (typeof exports !== 'undefined') savedexports = exports;\n",
       "    else exports = {}\n",
       "    if (typeof module !== 'undefined') savedmodule = module;\n",
       "    else module = {}\n",
       "\n",
       "    var tag = document.createElement('script');\n",
       "    tag.src = uri;\n",
       "    tag.async = true;\n",
       "    tag.onload = () => {\n",
       "        exports = savedexports;\n",
       "        module = savedmodule;\n",
       "        resolve();\n",
       "    };\n",
       "  var firstScriptTag = document.getElementsByTagName('script')[0];\n",
       "  firstScriptTag.parentNode.insertBefore(tag, firstScriptTag);\n",
       "});\n",
       "};\n",
       "\n",
       "if(typeof $3Dmolpromise === 'undefined') {\n",
       "$3Dmolpromise = null;\n",
       "  $3Dmolpromise = loadScriptAsync('https://cdn.jsdelivr.net/npm/3dmol@latest/build/3Dmol-min.min.js');\n",
       "}\n",
       "\n",
       "var viewer_16734164957954166 = null;\n",
       "var warn = document.getElementById(\"3dmolwarning_16734164957954166\");\n",
       "if(warn) {\n",
       "    warn.parentNode.removeChild(warn);\n",
       "}\n",
       "$3Dmolpromise.then(function() {\n",
       "viewer_16734164957954166 = $3Dmol.createViewer(document.getElementById(\"3dmolviewer_16734164957954166\"),{backgroundColor:\"white\"});\n",
       "viewer_16734164957954166.zoomTo();\n",
       "\tviewer_16734164957954166.addModel(\"\\n     RDKit          3D\\n\\n 15 15  0  0  0  0  0  0  0  0999 V2000\\n    2.4329    0.0000    0.0010 C   0  0  1  0  0  0  0  0  0  0  0  0\\n    0.9259    0.0000    0.0010 C   0  0  0  0  0  0  0  0  0  0  0  0\\n    0.2347    1.1972   -0.0006 C   0  0  0  0  0  0  0  0  0  0  0  0\\n   -1.1476    1.1972   -0.0006 C   0  0  0  0  0  0  0  0  0  0  0  0\\n   -1.8388    0.0000    0.0007 C   0  0  0  0  0  0  0  0  0  0  0  0\\n   -1.1476   -1.1972    0.0014 C   0  0  0  0  0  0  0  0  0  0  0  0\\n    0.2347   -1.1971   -0.0030 C   0  0  0  0  0  0  0  0  0  0  0  0\\n    2.7962    0.0014    1.0286 H   0  0  0  0  0  0  0  0  0  0  0  0\\n    2.7962   -0.8907   -0.5116 H   0  0  0  0  0  0  0  0  0  0  0  0\\n    2.7962    0.8893   -0.5141 H   0  0  0  0  0  0  0  0  0  0  0  0\\n    0.7747    2.1325   -0.0016 H   0  0  0  0  0  0  0  0  0  0  0  0\\n   -1.6876    2.1325   -0.0011 H   0  0  0  0  0  0  0  0  0  0  0  0\\n   -2.9188    0.0000    0.0015 H   0  0  0  0  0  0  0  0  0  0  0  0\\n   -1.6876   -2.1325    0.0027 H   0  0  0  0  0  0  0  0  0  0  0  0\\n    0.7747   -2.1325   -0.0025 H   0  0  0  0  0  0  0  0  0  0  0  0\\n  1  2  1  0\\n  1  8  1  1\\n  1  9  1  0\\n  1 10  1  0\\n  2  3  2  0\\n  2  7  1  0\\n  3  4  1  0\\n  3 11  1  0\\n  4  5  2  0\\n  4 12  1  0\\n  5  6  1  0\\n  5 13  1  0\\n  6  7  2  0\\n  6 14  1  0\\n  7 15  1  0\\nM  END\\n\",\"mol\");\n",
       "\tviewer_16734164957954166.setStyle({\"stick\": {}});\n",
       "\tviewer_16734164957954166.zoomTo();\n",
       "viewer_16734164957954166.render();\n",
       "});\n",
       "</script>"
      ]
     },
     "metadata": {},
     "output_type": "display_data"
    }
   ],
   "source": [
    "viewer = MolTo3DView(show_mol_lst[5], size=(600, 300), style='stick')\n",
    "viewer.show()"
   ]
  },
  {
   "cell_type": "code",
   "execution_count": 12,
   "metadata": {},
   "outputs": [
    {
     "data": {
      "application/3dmoljs_load.v0": "<div id=\"3dmolviewer_16734164966634917\"  style=\"position: relative; width: 600px; height: 300px\">\n        <p id=\"3dmolwarning_16734164966634917\" style=\"background-color:#ffcccc;color:black\">You appear to be running in JupyterLab (or JavaScript failed to load for some other reason).  You need to install the 3dmol extension: <br>\n        <tt>jupyter labextension install jupyterlab_3dmol</tt></p>\n        </div>\n<script>\n\nvar loadScriptAsync = function(uri){\n  return new Promise((resolve, reject) => {\n    //this is to ignore the existence of requirejs amd\n    var savedexports, savedmodule;\n    if (typeof exports !== 'undefined') savedexports = exports;\n    else exports = {}\n    if (typeof module !== 'undefined') savedmodule = module;\n    else module = {}\n\n    var tag = document.createElement('script');\n    tag.src = uri;\n    tag.async = true;\n    tag.onload = () => {\n        exports = savedexports;\n        module = savedmodule;\n        resolve();\n    };\n  var firstScriptTag = document.getElementsByTagName('script')[0];\n  firstScriptTag.parentNode.insertBefore(tag, firstScriptTag);\n});\n};\n\nif(typeof $3Dmolpromise === 'undefined') {\n$3Dmolpromise = null;\n  $3Dmolpromise = loadScriptAsync('https://cdn.jsdelivr.net/npm/3dmol@latest/build/3Dmol-min.min.js');\n}\n\nvar viewer_16734164966634917 = null;\nvar warn = document.getElementById(\"3dmolwarning_16734164966634917\");\nif(warn) {\n    warn.parentNode.removeChild(warn);\n}\n$3Dmolpromise.then(function() {\nviewer_16734164966634917 = $3Dmol.createViewer(document.getElementById(\"3dmolviewer_16734164966634917\"),{backgroundColor:\"white\"});\nviewer_16734164966634917.zoomTo();\n\tviewer_16734164966634917.addModel(\"\\n     RDKit          3D\\n\\n 12 12  0  0  0  0  0  0  0  0999 V2000\\n    1.6320    0.2951   -0.0637 C   0  0  0  0  0  0  0  0  0  0  0  0\\n    1.4462   -1.0375    0.0414 C   0  0  0  0  0  0  0  0  0  0  0  0\\n    0.1579   -1.5881    0.1158 N   0  0  0  0  0  0  0  0  0  0  0  0\\n   -1.0000   -0.7548    0.0823 C   0  0  0  0  0  0  0  0  0  0  0  0\\n   -0.8139    0.6462   -0.0280 N   0  0  0  0  0  0  0  0  0  0  0  0\\n    0.4966    1.2211   -0.1047 C   0  0  0  0  0  0  0  0  0  0  0  0\\n   -2.1159   -1.2556    0.1484 O   0  0  0  0  0  0  0  0  0  0  0  0\\n    0.5471    2.4364   -0.1977 O   0  0  0  0  0  0  0  0  0  0  0  0\\n    2.2820   -1.7492    0.0738 H   0  0  0  0  0  0  0  0  0  0  0  0\\n    0.0433   -2.5733    0.1927 H   0  0  0  0  0  0  0  0  0  0  0  0\\n   -1.6241    1.2299   -0.0514 H   0  0  0  0  0  0  0  0  0  0  0  0\\n    2.6363    0.7286   -0.1219 H   0  0  0  0  0  0  0  0  0  0  0  0\\n  1  2  2  0\\n  1  6  1  0\\n  1 12  1  0\\n  2  3  1  0\\n  2  9  1  0\\n  3  4  1  0\\n  3 10  1  0\\n  4  5  1  0\\n  4  7  2  0\\n  5  6  1  0\\n  5 11  1  0\\n  6  8  2  0\\nM  END\\n\",\"mol\");\n\tviewer_16734164966634917.setStyle({\"stick\": {}});\n\tviewer_16734164966634917.zoomTo();\nviewer_16734164966634917.render();\n});\n</script>",
      "text/html": [
       "<div id=\"3dmolviewer_16734164966634917\"  style=\"position: relative; width: 600px; height: 300px\">\n",
       "        <p id=\"3dmolwarning_16734164966634917\" style=\"background-color:#ffcccc;color:black\">You appear to be running in JupyterLab (or JavaScript failed to load for some other reason).  You need to install the 3dmol extension: <br>\n",
       "        <tt>jupyter labextension install jupyterlab_3dmol</tt></p>\n",
       "        </div>\n",
       "<script>\n",
       "\n",
       "var loadScriptAsync = function(uri){\n",
       "  return new Promise((resolve, reject) => {\n",
       "    //this is to ignore the existence of requirejs amd\n",
       "    var savedexports, savedmodule;\n",
       "    if (typeof exports !== 'undefined') savedexports = exports;\n",
       "    else exports = {}\n",
       "    if (typeof module !== 'undefined') savedmodule = module;\n",
       "    else module = {}\n",
       "\n",
       "    var tag = document.createElement('script');\n",
       "    tag.src = uri;\n",
       "    tag.async = true;\n",
       "    tag.onload = () => {\n",
       "        exports = savedexports;\n",
       "        module = savedmodule;\n",
       "        resolve();\n",
       "    };\n",
       "  var firstScriptTag = document.getElementsByTagName('script')[0];\n",
       "  firstScriptTag.parentNode.insertBefore(tag, firstScriptTag);\n",
       "});\n",
       "};\n",
       "\n",
       "if(typeof $3Dmolpromise === 'undefined') {\n",
       "$3Dmolpromise = null;\n",
       "  $3Dmolpromise = loadScriptAsync('https://cdn.jsdelivr.net/npm/3dmol@latest/build/3Dmol-min.min.js');\n",
       "}\n",
       "\n",
       "var viewer_16734164966634917 = null;\n",
       "var warn = document.getElementById(\"3dmolwarning_16734164966634917\");\n",
       "if(warn) {\n",
       "    warn.parentNode.removeChild(warn);\n",
       "}\n",
       "$3Dmolpromise.then(function() {\n",
       "viewer_16734164966634917 = $3Dmol.createViewer(document.getElementById(\"3dmolviewer_16734164966634917\"),{backgroundColor:\"white\"});\n",
       "viewer_16734164966634917.zoomTo();\n",
       "\tviewer_16734164966634917.addModel(\"\\n     RDKit          3D\\n\\n 12 12  0  0  0  0  0  0  0  0999 V2000\\n    1.6320    0.2951   -0.0637 C   0  0  0  0  0  0  0  0  0  0  0  0\\n    1.4462   -1.0375    0.0414 C   0  0  0  0  0  0  0  0  0  0  0  0\\n    0.1579   -1.5881    0.1158 N   0  0  0  0  0  0  0  0  0  0  0  0\\n   -1.0000   -0.7548    0.0823 C   0  0  0  0  0  0  0  0  0  0  0  0\\n   -0.8139    0.6462   -0.0280 N   0  0  0  0  0  0  0  0  0  0  0  0\\n    0.4966    1.2211   -0.1047 C   0  0  0  0  0  0  0  0  0  0  0  0\\n   -2.1159   -1.2556    0.1484 O   0  0  0  0  0  0  0  0  0  0  0  0\\n    0.5471    2.4364   -0.1977 O   0  0  0  0  0  0  0  0  0  0  0  0\\n    2.2820   -1.7492    0.0738 H   0  0  0  0  0  0  0  0  0  0  0  0\\n    0.0433   -2.5733    0.1927 H   0  0  0  0  0  0  0  0  0  0  0  0\\n   -1.6241    1.2299   -0.0514 H   0  0  0  0  0  0  0  0  0  0  0  0\\n    2.6363    0.7286   -0.1219 H   0  0  0  0  0  0  0  0  0  0  0  0\\n  1  2  2  0\\n  1  6  1  0\\n  1 12  1  0\\n  2  3  1  0\\n  2  9  1  0\\n  3  4  1  0\\n  3 10  1  0\\n  4  5  1  0\\n  4  7  2  0\\n  5  6  1  0\\n  5 11  1  0\\n  6  8  2  0\\nM  END\\n\",\"mol\");\n",
       "\tviewer_16734164966634917.setStyle({\"stick\": {}});\n",
       "\tviewer_16734164966634917.zoomTo();\n",
       "viewer_16734164966634917.render();\n",
       "});\n",
       "</script>"
      ]
     },
     "metadata": {},
     "output_type": "display_data"
    }
   ],
   "source": [
    "viewer = MolTo3DView(show_mol_lst[6], size=(600, 300), style='stick')\n",
    "viewer.show()"
   ]
  },
  {
   "cell_type": "code",
   "execution_count": null,
   "metadata": {},
   "outputs": [],
   "source": []
  }
 ],
 "metadata": {
  "kernelspec": {
   "display_name": "base",
   "language": "python",
   "name": "python3"
  },
  "language_info": {
   "codemirror_mode": {
    "name": "ipython",
    "version": 3
   },
   "file_extension": ".py",
   "mimetype": "text/x-python",
   "name": "python",
   "nbconvert_exporter": "python",
   "pygments_lexer": "ipython3",
   "version": "3.8.12"
  },
  "orig_nbformat": 4,
  "vscode": {
   "interpreter": {
    "hash": "d4d1e4263499bec80672ea0156c357c1ee493ec2b1c70f0acce89fc37c4a6abe"
   }
  }
 },
 "nbformat": 4,
 "nbformat_minor": 2
}
