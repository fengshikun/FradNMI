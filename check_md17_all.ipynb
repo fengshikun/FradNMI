{
 "cells": [
  {
   "cell_type": "code",
   "execution_count": 7,
   "metadata": {},
   "outputs": [],
   "source": [
    "from rdkit import Chem\n",
    "from ipywidgets import interact, interactive, fixed\n",
    "import py3Dmol\n",
    "from rdkit.Chem import AllChem\n",
    "from rdkit.Chem.Draw import IPythonConsole\n",
    "IPythonConsole.ipython_useSVG = True\n",
    "\n",
    "from torchmdnet.datasets import MD17\n",
    "import numpy as np\n",
    "\n",
    "md17_mols_type = ['aspirin', 'benzene2017', 'ethanol', 'malonaldehyde', 'naphthalene', 'salicylic', 'toluene', 'uracil']\n",
    "md17_mols_type = ['benzene2017', 'ethanol', 'malonaldehyde', 'naphthalene', 'salicylic', 'toluene', 'uracil']\n",
    "\n",
    "def MolTo3DView(mol, size=(300, 300), style=\"stick\", surface=False, opacity=0.5):\n",
    "    \"\"\"Draw molecule in 3D\n",
    "    \n",
    "    Args:\n",
    "    ----\n",
    "        mol: rdMol, molecule to show\n",
    "        size: tuple(int, int), canvas size\n",
    "        style: str, type of drawing molecule\n",
    "               style can be 'line', 'stick', 'sphere', 'carton'\n",
    "        surface, bool, display SAS\n",
    "        opacity, float, opacity of surface, range 0.0-1.0\n",
    "    Return:\n",
    "    ----\n",
    "        viewer: py3Dmol.view, a class for constructing embedded 3Dmol.js views in ipython notebooks.\n",
    "    \"\"\"\n",
    "    assert style in ('line', 'stick', 'sphere', 'carton')\n",
    "    mblock = Chem.MolToMolBlock(mol)\n",
    "    viewer = py3Dmol.view(width=size[0], height=size[1])\n",
    "    viewer.addModel(mblock, 'mol')\n",
    "    viewer.setStyle({style:{}})\n",
    "    # viewer.addPropertyLabels(\"atom\",\"\",\"\")\n",
    "\n",
    "    # for i, at in enumerate(mol):\n",
    "    #     default = {\"stick\": {'color': 'black'}}\n",
    "    #     viewer.setStyle({'model': -1, 'serial': i+1}, at.get(\"pymol\", default))\n",
    "\n",
    "    if surface:\n",
    "        viewer.addSurface(py3Dmol.SAS, {'opacity': opacity})\n",
    "    viewer.zoomTo()\n",
    "    return viewer\n",
    "\n",
    "base_dir = '/home/fengshikun/MD17_data'"
   ]
  },
  {
   "cell_type": "code",
   "execution_count": 16,
   "metadata": {},
   "outputs": [],
   "source": [
    "show_mol_lst = []\n",
    "for mol_type in md17_mols_type:\n",
    "    mol_lst = np.load(f'{base_dir}/{mol_type}.npy', allow_pickle=True)\n",
    "    show_mol_lst.append(mol_lst[0])"
   ]
  },
  {
   "cell_type": "code",
   "execution_count": 18,
   "metadata": {},
   "outputs": [
    {
     "name": "stdout",
     "output_type": "stream",
     "text": [
      "[]\n",
      "[(2, 0, 1, 5), (1, 0, 2, 8)]\n",
      "[(4, 0, 1, 2), (0, 1, 2, 3)]\n",
      "[]\n",
      "[(2, 1, 0, 8), (1, 0, 9, 15), (1, 2, 3, 10)]\n",
      "[(2, 1, 0, 7)]\n",
      "[]\n"
     ]
    }
   ],
   "source": [
    "from torsion_utils import get_torsions, GetDihedral, apply_changes\n",
    "from rdkit import Chem\n",
    "\n",
    "for s_mol in show_mol_lst:\n",
    "    # no_h_mol = Chem.RemoveHs(s_mol)\n",
    "    rotable_bonds = get_torsions([s_mol])\n",
    "    print(rotable_bonds)"
   ]
  },
  {
   "cell_type": "code",
   "execution_count": 9,
   "metadata": {},
   "outputs": [],
   "source": [
    "import numpy as np\n",
    "asp_mol_lst = np.load('new_asp_lst.npy', allow_pickle=True)\n",
    "# asp_mol_lst[0]"
   ]
  },
  {
   "cell_type": "code",
   "execution_count": 19,
   "metadata": {},
   "outputs": [
    {
     "data": {
      "application/3dmoljs_load.v0": "<div id=\"3dmolviewer_16734070672780323\"  style=\"position: relative; width: 600px; height: 300px\">\n        <p id=\"3dmolwarning_16734070672780323\" style=\"background-color:#ffcccc;color:black\">You appear to be running in JupyterLab (or JavaScript failed to load for some other reason).  You need to install the 3dmol extension: <br>\n        <tt>jupyter labextension install jupyterlab_3dmol</tt></p>\n        </div>\n<script>\n\nvar loadScriptAsync = function(uri){\n  return new Promise((resolve, reject) => {\n    var tag = document.createElement('script');\n    tag.src = uri;\n    tag.async = true;\n    tag.onload = () => {\n      resolve();\n    };\n  var firstScriptTag = document.getElementsByTagName('script')[0];\n  firstScriptTag.parentNode.insertBefore(tag, firstScriptTag);\n});\n};\n\nif(typeof $3Dmolpromise === 'undefined') {\n$3Dmolpromise = null;\n  $3Dmolpromise = loadScriptAsync('https://cdn.jsdelivr.net/npm/3dmol@latest/build/3Dmol-min.min.js');\n}\n\nvar viewer_16734070672780323 = null;\nvar warn = document.getElementById(\"3dmolwarning_16734070672780323\");\nif(warn) {\n    warn.parentNode.removeChild(warn);\n}\n$3Dmolpromise.then(function() {\nviewer_16734070672780323 = $3Dmol.createViewer($(\"#3dmolviewer_16734070672780323\"),{backgroundColor:\"white\"});\nviewer_16734070672780323.zoomTo();\n\tviewer_16734070672780323.addModel(\"\\n     RDKit          3D\\n\\n 21 21  0  0  0  0  0  0  0  0999 V2000\\n    2.2393   -0.3791    0.2630 C   0  0  0  0  0  0  0  0  0  0  0  0\\n    0.8424    1.9231   -0.4249 C   0  0  0  0  0  0  0  0  0  0  0  0\\n    2.8709    0.8456    0.2722 C   0  0  0  0  0  0  0  0  0  0  0  0\\n    2.1751    1.9935   -0.0703 C   0  0  0  0  0  0  0  0  0  0  0  0\\n   -3.4838    0.4953   -0.0896 C   0  0  1  0  0  0  0  0  0  0  0  0\\n    0.8910   -0.4647   -0.0939 C   0  0  0  0  0  0  0  0  0  0  0  0\\n    0.1908    0.6991   -0.4402 C   0  0  0  0  0  0  0  0  0  0  0  0\\n   -0.9633   -1.8425   -0.4185 O   0  0  0  0  0  0  0  0  0  0  0  0\\n   -1.6531    0.8889    1.3406 O   0  0  0  0  0  0  0  0  0  0  0  0\\n    0.8857   -2.8883    0.2267 O   0  0  0  0  0  0  0  0  0  0  0  0\\n    0.2090   -1.7720   -0.1069 C   0  0  0  0  0  0  0  0  0  0  0  0\\n   -2.0185    0.6853    0.2071 C   0  0  0  0  0  0  0  0  0  0  0  0\\n   -1.1189    0.6285   -0.7886 O   0  0  0  0  0  0  0  0  0  0  0  0\\n    0.3962   -3.7219    0.2035 H   0  0  0  0  0  0  0  0  0  0  0  0\\n    2.7867   -1.2719    0.5268 H   0  0  0  0  0  0  0  0  0  0  0  0\\n    0.3069    2.8224   -0.6911 H   0  0  0  0  0  0  0  0  0  0  0  0\\n    3.9130    0.9108    0.5482 H   0  0  0  0  0  0  0  0  0  0  0  0\\n    2.6781    2.9492   -0.0604 H   0  0  0  0  0  0  0  0  0  0  0  0\\n   -3.7360   -0.5623   -0.0120 H   0  0  0  0  0  0  0  0  0  0  0  0\\n   -4.0763    1.0637    0.6273 H   0  0  0  0  0  0  0  0  0  0  0  0\\n   -3.6988    0.8471   -1.0986 H   0  0  0  0  0  0  0  0  0  0  0  0\\n  1  3  2  0\\n  1  6  1  0\\n  1 15  1  0\\n  2  4  2  0\\n  2  7  1  0\\n  2 16  1  0\\n  3  4  1  0\\n  3 17  1  0\\n  4 18  1  0\\n  5 12  1  0\\n  5 19  1  6\\n  5 20  1  0\\n  5 21  1  0\\n  6  7  2  0\\n  6 11  1  0\\n  7 13  1  0\\n  8 11  2  0\\n  9 12  2  0\\n 10 11  1  0\\n 10 14  1  0\\n 12 13  1  0\\nM  END\\n\",\"mol\");\n\tviewer_16734070672780323.setStyle({\"stick\": {}});\n\tviewer_16734070672780323.zoomTo();\nviewer_16734070672780323.render();\n});\n</script>",
      "text/html": [
       "<div id=\"3dmolviewer_16734070672780323\"  style=\"position: relative; width: 600px; height: 300px\">\n",
       "        <p id=\"3dmolwarning_16734070672780323\" style=\"background-color:#ffcccc;color:black\">You appear to be running in JupyterLab (or JavaScript failed to load for some other reason).  You need to install the 3dmol extension: <br>\n",
       "        <tt>jupyter labextension install jupyterlab_3dmol</tt></p>\n",
       "        </div>\n",
       "<script>\n",
       "\n",
       "var loadScriptAsync = function(uri){\n",
       "  return new Promise((resolve, reject) => {\n",
       "    var tag = document.createElement('script');\n",
       "    tag.src = uri;\n",
       "    tag.async = true;\n",
       "    tag.onload = () => {\n",
       "      resolve();\n",
       "    };\n",
       "  var firstScriptTag = document.getElementsByTagName('script')[0];\n",
       "  firstScriptTag.parentNode.insertBefore(tag, firstScriptTag);\n",
       "});\n",
       "};\n",
       "\n",
       "if(typeof $3Dmolpromise === 'undefined') {\n",
       "$3Dmolpromise = null;\n",
       "  $3Dmolpromise = loadScriptAsync('https://cdn.jsdelivr.net/npm/3dmol@latest/build/3Dmol-min.min.js');\n",
       "}\n",
       "\n",
       "var viewer_16734070672780323 = null;\n",
       "var warn = document.getElementById(\"3dmolwarning_16734070672780323\");\n",
       "if(warn) {\n",
       "    warn.parentNode.removeChild(warn);\n",
       "}\n",
       "$3Dmolpromise.then(function() {\n",
       "viewer_16734070672780323 = $3Dmol.createViewer($(\"#3dmolviewer_16734070672780323\"),{backgroundColor:\"white\"});\n",
       "viewer_16734070672780323.zoomTo();\n",
       "\tviewer_16734070672780323.addModel(\"\\n     RDKit          3D\\n\\n 21 21  0  0  0  0  0  0  0  0999 V2000\\n    2.2393   -0.3791    0.2630 C   0  0  0  0  0  0  0  0  0  0  0  0\\n    0.8424    1.9231   -0.4249 C   0  0  0  0  0  0  0  0  0  0  0  0\\n    2.8709    0.8456    0.2722 C   0  0  0  0  0  0  0  0  0  0  0  0\\n    2.1751    1.9935   -0.0703 C   0  0  0  0  0  0  0  0  0  0  0  0\\n   -3.4838    0.4953   -0.0896 C   0  0  1  0  0  0  0  0  0  0  0  0\\n    0.8910   -0.4647   -0.0939 C   0  0  0  0  0  0  0  0  0  0  0  0\\n    0.1908    0.6991   -0.4402 C   0  0  0  0  0  0  0  0  0  0  0  0\\n   -0.9633   -1.8425   -0.4185 O   0  0  0  0  0  0  0  0  0  0  0  0\\n   -1.6531    0.8889    1.3406 O   0  0  0  0  0  0  0  0  0  0  0  0\\n    0.8857   -2.8883    0.2267 O   0  0  0  0  0  0  0  0  0  0  0  0\\n    0.2090   -1.7720   -0.1069 C   0  0  0  0  0  0  0  0  0  0  0  0\\n   -2.0185    0.6853    0.2071 C   0  0  0  0  0  0  0  0  0  0  0  0\\n   -1.1189    0.6285   -0.7886 O   0  0  0  0  0  0  0  0  0  0  0  0\\n    0.3962   -3.7219    0.2035 H   0  0  0  0  0  0  0  0  0  0  0  0\\n    2.7867   -1.2719    0.5268 H   0  0  0  0  0  0  0  0  0  0  0  0\\n    0.3069    2.8224   -0.6911 H   0  0  0  0  0  0  0  0  0  0  0  0\\n    3.9130    0.9108    0.5482 H   0  0  0  0  0  0  0  0  0  0  0  0\\n    2.6781    2.9492   -0.0604 H   0  0  0  0  0  0  0  0  0  0  0  0\\n   -3.7360   -0.5623   -0.0120 H   0  0  0  0  0  0  0  0  0  0  0  0\\n   -4.0763    1.0637    0.6273 H   0  0  0  0  0  0  0  0  0  0  0  0\\n   -3.6988    0.8471   -1.0986 H   0  0  0  0  0  0  0  0  0  0  0  0\\n  1  3  2  0\\n  1  6  1  0\\n  1 15  1  0\\n  2  4  2  0\\n  2  7  1  0\\n  2 16  1  0\\n  3  4  1  0\\n  3 17  1  0\\n  4 18  1  0\\n  5 12  1  0\\n  5 19  1  6\\n  5 20  1  0\\n  5 21  1  0\\n  6  7  2  0\\n  6 11  1  0\\n  7 13  1  0\\n  8 11  2  0\\n  9 12  2  0\\n 10 11  1  0\\n 10 14  1  0\\n 12 13  1  0\\nM  END\\n\",\"mol\");\n",
       "\tviewer_16734070672780323.setStyle({\"stick\": {}});\n",
       "\tviewer_16734070672780323.zoomTo();\n",
       "viewer_16734070672780323.render();\n",
       "});\n",
       "</script>"
      ]
     },
     "metadata": {},
     "output_type": "display_data"
    }
   ],
   "source": [
    "viewer = MolTo3DView(asp_mol_lst[0], size=(600, 300), style='stick')\n",
    "viewer.show()\n",
    "# asp_mol_lst[0]"
   ]
  },
  {
   "cell_type": "code",
   "execution_count": null,
   "metadata": {},
   "outputs": [],
   "source": []
  },
  {
   "cell_type": "code",
   "execution_count": 10,
   "metadata": {},
   "outputs": [
    {
     "data": {
      "application/3dmoljs_load.v0": "<div id=\"3dmolviewer_1673405237284522\"  style=\"position: relative; width: 600px; height: 300px\">\n        <p id=\"3dmolwarning_1673405237284522\" style=\"background-color:#ffcccc;color:black\">You appear to be running in JupyterLab (or JavaScript failed to load for some other reason).  You need to install the 3dmol extension: <br>\n        <tt>jupyter labextension install jupyterlab_3dmol</tt></p>\n        </div>\n<script>\n\nvar loadScriptAsync = function(uri){\n  return new Promise((resolve, reject) => {\n    var tag = document.createElement('script');\n    tag.src = uri;\n    tag.async = true;\n    tag.onload = () => {\n      resolve();\n    };\n  var firstScriptTag = document.getElementsByTagName('script')[0];\n  firstScriptTag.parentNode.insertBefore(tag, firstScriptTag);\n});\n};\n\nif(typeof $3Dmolpromise === 'undefined') {\n$3Dmolpromise = null;\n  $3Dmolpromise = loadScriptAsync('https://cdn.jsdelivr.net/npm/3dmol@latest/build/3Dmol-min.min.js');\n}\n\nvar viewer_1673405237284522 = null;\nvar warn = document.getElementById(\"3dmolwarning_1673405237284522\");\nif(warn) {\n    warn.parentNode.removeChild(warn);\n}\n$3Dmolpromise.then(function() {\nviewer_1673405237284522 = $3Dmol.createViewer($(\"#3dmolviewer_1673405237284522\"),{backgroundColor:\"white\"});\nviewer_1673405237284522.zoomTo();\n\tviewer_1673405237284522.addModel(\"\\n     RDKit          3D\\n\\n  9  8  0  0  0  0  0  0  0  0999 V2000\\n    0.0072   -0.5687    0.0000 C   0  0  1  0  0  0  0  0  0  0  0  0\\n   -1.2854    0.2499    0.0000 C   0  0  1  0  0  0  0  0  0  0  0  0\\n    1.1304    0.3147    0.0000 O   0  0  0  0  0  0  0  0  0  0  0  0\\n    0.0392   -1.1972    0.8900 H   0  0  0  0  0  0  0  0  0  0  0  0\\n    0.0392   -1.1972   -0.8900 H   0  0  0  0  0  0  0  0  0  0  0  0\\n   -1.3175    0.8784    0.8900 H   0  0  0  0  0  0  0  0  0  0  0  0\\n   -1.3175    0.8784   -0.8900 H   0  0  0  0  0  0  0  0  0  0  0  0\\n   -2.1422   -0.4239    0.0000 H   0  0  0  0  0  0  0  0  0  0  0  0\\n    1.9857   -0.1365    0.0000 H   0  0  0  0  0  0  0  0  0  0  0  0\\n  1  2  1  0\\n  1  3  1  0\\n  1  4  1  6\\n  1  5  1  0\\n  2  6  1  6\\n  2  7  1  0\\n  2  8  1  0\\n  3  9  1  0\\nM  END\\n\",\"mol\");\n\tviewer_1673405237284522.setStyle({\"stick\": {}});\n\tviewer_1673405237284522.zoomTo();\nviewer_1673405237284522.render();\n});\n</script>",
      "text/html": [
       "<div id=\"3dmolviewer_1673405237284522\"  style=\"position: relative; width: 600px; height: 300px\">\n",
       "        <p id=\"3dmolwarning_1673405237284522\" style=\"background-color:#ffcccc;color:black\">You appear to be running in JupyterLab (or JavaScript failed to load for some other reason).  You need to install the 3dmol extension: <br>\n",
       "        <tt>jupyter labextension install jupyterlab_3dmol</tt></p>\n",
       "        </div>\n",
       "<script>\n",
       "\n",
       "var loadScriptAsync = function(uri){\n",
       "  return new Promise((resolve, reject) => {\n",
       "    var tag = document.createElement('script');\n",
       "    tag.src = uri;\n",
       "    tag.async = true;\n",
       "    tag.onload = () => {\n",
       "      resolve();\n",
       "    };\n",
       "  var firstScriptTag = document.getElementsByTagName('script')[0];\n",
       "  firstScriptTag.parentNode.insertBefore(tag, firstScriptTag);\n",
       "});\n",
       "};\n",
       "\n",
       "if(typeof $3Dmolpromise === 'undefined') {\n",
       "$3Dmolpromise = null;\n",
       "  $3Dmolpromise = loadScriptAsync('https://cdn.jsdelivr.net/npm/3dmol@latest/build/3Dmol-min.min.js');\n",
       "}\n",
       "\n",
       "var viewer_1673405237284522 = null;\n",
       "var warn = document.getElementById(\"3dmolwarning_1673405237284522\");\n",
       "if(warn) {\n",
       "    warn.parentNode.removeChild(warn);\n",
       "}\n",
       "$3Dmolpromise.then(function() {\n",
       "viewer_1673405237284522 = $3Dmol.createViewer($(\"#3dmolviewer_1673405237284522\"),{backgroundColor:\"white\"});\n",
       "viewer_1673405237284522.zoomTo();\n",
       "\tviewer_1673405237284522.addModel(\"\\n     RDKit          3D\\n\\n  9  8  0  0  0  0  0  0  0  0999 V2000\\n    0.0072   -0.5687    0.0000 C   0  0  1  0  0  0  0  0  0  0  0  0\\n   -1.2854    0.2499    0.0000 C   0  0  1  0  0  0  0  0  0  0  0  0\\n    1.1304    0.3147    0.0000 O   0  0  0  0  0  0  0  0  0  0  0  0\\n    0.0392   -1.1972    0.8900 H   0  0  0  0  0  0  0  0  0  0  0  0\\n    0.0392   -1.1972   -0.8900 H   0  0  0  0  0  0  0  0  0  0  0  0\\n   -1.3175    0.8784    0.8900 H   0  0  0  0  0  0  0  0  0  0  0  0\\n   -1.3175    0.8784   -0.8900 H   0  0  0  0  0  0  0  0  0  0  0  0\\n   -2.1422   -0.4239    0.0000 H   0  0  0  0  0  0  0  0  0  0  0  0\\n    1.9857   -0.1365    0.0000 H   0  0  0  0  0  0  0  0  0  0  0  0\\n  1  2  1  0\\n  1  3  1  0\\n  1  4  1  6\\n  1  5  1  0\\n  2  6  1  6\\n  2  7  1  0\\n  2  8  1  0\\n  3  9  1  0\\nM  END\\n\",\"mol\");\n",
       "\tviewer_1673405237284522.setStyle({\"stick\": {}});\n",
       "\tviewer_1673405237284522.zoomTo();\n",
       "viewer_1673405237284522.render();\n",
       "});\n",
       "</script>"
      ]
     },
     "metadata": {},
     "output_type": "display_data"
    }
   ],
   "source": [
    "viewer = MolTo3DView(show_mol_lst[1], size=(600, 300), style='stick')\n",
    "viewer.show()"
   ]
  },
  {
   "cell_type": "code",
   "execution_count": null,
   "metadata": {},
   "outputs": [],
   "source": [
    "viewer = MolTo3DView(show_mol_lst[2], size=(600, 300), style='stick')\n",
    "viewer.show()"
   ]
  },
  {
   "cell_type": "code",
   "execution_count": null,
   "metadata": {},
   "outputs": [],
   "source": [
    "viewer = MolTo3DView(show_mol_lst[3], size=(600, 300), style='stick')\n",
    "viewer.show()"
   ]
  },
  {
   "cell_type": "code",
   "execution_count": null,
   "metadata": {},
   "outputs": [],
   "source": [
    "viewer = MolTo3DView(show_mol_lst[4], size=(600, 300), style='stick')\n",
    "viewer.show()"
   ]
  },
  {
   "cell_type": "code",
   "execution_count": null,
   "metadata": {},
   "outputs": [],
   "source": [
    "viewer = MolTo3DView(show_mol_lst[5], size=(600, 300), style='stick')\n",
    "viewer.show()"
   ]
  },
  {
   "cell_type": "code",
   "execution_count": null,
   "metadata": {},
   "outputs": [],
   "source": [
    "viewer = MolTo3DView(show_mol_lst[6], size=(600, 300), style='stick')\n",
    "viewer.show()"
   ]
  }
 ],
 "metadata": {
  "kernelspec": {
   "display_name": "base",
   "language": "python",
   "name": "python3"
  },
  "language_info": {
   "codemirror_mode": {
    "name": "ipython",
    "version": 3
   },
   "file_extension": ".py",
   "mimetype": "text/x-python",
   "name": "python",
   "nbconvert_exporter": "python",
   "pygments_lexer": "ipython3",
   "version": "3.8.12"
  },
  "orig_nbformat": 4,
  "vscode": {
   "interpreter": {
    "hash": "d4d1e4263499bec80672ea0156c357c1ee493ec2b1c70f0acce89fc37c4a6abe"
   }
  }
 },
 "nbformat": 4,
 "nbformat_minor": 2
}
