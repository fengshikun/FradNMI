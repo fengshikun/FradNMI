{
 "cells": [
  {
   "cell_type": "code",
   "execution_count": 1,
   "metadata": {},
   "outputs": [],
   "source": [
    "import numpy as np\n",
    "MOL_LST = np.load(\"mol_iter_all.npy\", allow_pickle=True)"
   ]
  },
  {
   "cell_type": "code",
   "execution_count": 1,
   "metadata": {},
   "outputs": [
    {
     "data": {
      "text/html": [
       "\n",
       "<div id=\"altair-viz-2ec9a3ad4089401fa00ba8efc600cfa8\"></div>\n",
       "<script type=\"text/javascript\">\n",
       "  var VEGA_DEBUG = (typeof VEGA_DEBUG == \"undefined\") ? {} : VEGA_DEBUG;\n",
       "  (function(spec, embedOpt){\n",
       "    let outputDiv = document.currentScript.previousElementSibling;\n",
       "    if (outputDiv.id !== \"altair-viz-2ec9a3ad4089401fa00ba8efc600cfa8\") {\n",
       "      outputDiv = document.getElementById(\"altair-viz-2ec9a3ad4089401fa00ba8efc600cfa8\");\n",
       "    }\n",
       "    const paths = {\n",
       "      \"vega\": \"https://cdn.jsdelivr.net/npm//vega@5?noext\",\n",
       "      \"vega-lib\": \"https://cdn.jsdelivr.net/npm//vega-lib?noext\",\n",
       "      \"vega-lite\": \"https://cdn.jsdelivr.net/npm//vega-lite@4.17.0?noext\",\n",
       "      \"vega-embed\": \"https://cdn.jsdelivr.net/npm//vega-embed@6?noext\",\n",
       "    };\n",
       "\n",
       "    function maybeLoadScript(lib, version) {\n",
       "      var key = `${lib.replace(\"-\", \"\")}_version`;\n",
       "      return (VEGA_DEBUG[key] == version) ?\n",
       "        Promise.resolve(paths[lib]) :\n",
       "        new Promise(function(resolve, reject) {\n",
       "          var s = document.createElement('script');\n",
       "          document.getElementsByTagName(\"head\")[0].appendChild(s);\n",
       "          s.async = true;\n",
       "          s.onload = () => {\n",
       "            VEGA_DEBUG[key] = version;\n",
       "            return resolve(paths[lib]);\n",
       "          };\n",
       "          s.onerror = () => reject(`Error loading script: ${paths[lib]}`);\n",
       "          s.src = paths[lib];\n",
       "        });\n",
       "    }\n",
       "\n",
       "    function showError(err) {\n",
       "      outputDiv.innerHTML = `<div class=\"error\" style=\"color:red;\">${err}</div>`;\n",
       "      throw err;\n",
       "    }\n",
       "\n",
       "    function displayChart(vegaEmbed) {\n",
       "      vegaEmbed(outputDiv, spec, embedOpt)\n",
       "        .catch(err => showError(`Javascript Error: ${err.message}<br>This usually means there's a typo in your chart specification. See the javascript console for the full traceback.`));\n",
       "    }\n",
       "\n",
       "    if(typeof define === \"function\" && define.amd) {\n",
       "      requirejs.config({paths});\n",
       "      require([\"vega-embed\"], displayChart, err => showError(`Error loading script: ${err.message}`));\n",
       "    } else {\n",
       "      maybeLoadScript(\"vega\", \"5\")\n",
       "        .then(() => maybeLoadScript(\"vega-lite\", \"4.17.0\"))\n",
       "        .then(() => maybeLoadScript(\"vega-embed\", \"6\"))\n",
       "        .catch(showError)\n",
       "        .then(() => displayChart(vegaEmbed));\n",
       "    }\n",
       "  })({\"config\": {\"view\": {\"continuousWidth\": 400, \"continuousHeight\": 300}}, \"data\": {\"name\": \"data-dc7532ee7b013156965d6b914b8c2c53\"}, \"mark\": {\"type\": \"line\", \"interpolate\": \"natural\", \"point\": true}, \"encoding\": {\"x\": {\"field\": \"angle\", \"scale\": {\"domain\": [0, 360, 350]}, \"type\": \"quantitative\"}, \"y\": {\"field\": \"energy\", \"scale\": {\"zero\": false}, \"type\": \"quantitative\"}}, \"selection\": {\"selector001\": {\"type\": \"interval\", \"bind\": \"scales\", \"encodings\": [\"x\", \"y\"]}}, \"$schema\": \"https://vega.github.io/schema/vega-lite/v4.17.0.json\", \"datasets\": {\"data-dc7532ee7b013156965d6b914b8c2c53\": [{\"angle\": 0, \"energy\": 31.490346731664726}, {\"angle\": 10, \"energy\": 40.42604763887544}, {\"angle\": 20, \"energy\": 169.3458133996195}, {\"angle\": 30, \"energy\": 28.243151580592322}, {\"angle\": 40, \"energy\": 25.718001827379975}, {\"angle\": 50, \"energy\": 24.177467032136004}, {\"angle\": 60, \"energy\": 23.049382124028096}, {\"angle\": 70, \"energy\": 22.355759458614088}, {\"angle\": 80, \"energy\": 22.01284101060561}, {\"angle\": 90, \"energy\": 24.27078337725023}, {\"angle\": 100, \"energy\": 22.797894216252363}, {\"angle\": 110, \"energy\": 22.749947727774735}, {\"angle\": 120, \"energy\": 22.538072171755335}, {\"angle\": 130, \"energy\": 22.10470721274681}, {\"angle\": 140, \"energy\": 24.865856974432667}, {\"angle\": 150, \"energy\": 20.877891518567427}, {\"angle\": 160, \"energy\": 20.33382618642067}, {\"angle\": 170, \"energy\": 19.969500460793306}, {\"angle\": 180, \"energy\": 19.83603546343445}, {\"angle\": 190, \"energy\": 19.94294903159064}, {\"angle\": 200, \"energy\": 20.273888051383402}, {\"angle\": 210, \"energy\": 20.738588564754558}, {\"angle\": 220, \"energy\": 21.277352245489535}, {\"angle\": 230, \"energy\": 21.900598067567028}, {\"angle\": 240, \"energy\": 22.301781755762804}, {\"angle\": 250, \"energy\": 29.499442012678653}, {\"angle\": 260, \"energy\": 22.639681633995888}, {\"angle\": 270, \"energy\": 22.744921458946216}, {\"angle\": 280, \"energy\": 22.769104957990425}, {\"angle\": 290, \"energy\": 22.282277567340746}, {\"angle\": 300, \"energy\": 23.02824819180348}, {\"angle\": 310, \"energy\": 24.044160243925635}, {\"angle\": 320, \"energy\": 25.27538181348083}, {\"angle\": 330, \"energy\": 26.606054940654218}, {\"angle\": 340, \"energy\": 27.760644143186198}, {\"angle\": 350, \"energy\": 28.592774949014384}, {\"angle\": 360, \"energy\": 28.822412243757228}]}}, {\"mode\": \"vega-lite\"});\n",
       "</script>"
      ],
      "text/plain": [
       "alt.Chart(...)"
      ]
     },
     "execution_count": 1,
     "metadata": {},
     "output_type": "execute_result"
    }
   ],
   "source": [
    "from rdkit.Chem import rdMolTransforms\n",
    "import altair as alt\n",
    "import copy\n",
    "import pandas as pd\n",
    "from rdkit import Chem\n",
    "from rdkit.Chem import rdForceFieldHelpers\n",
    "from rdkit.Chem import ChemicalForceFields\n",
    "from rdkit.Chem import AllChem\n",
    "\n",
    "from rdkit import Chem\n",
    "from rdkit.Chem import AllChem\n",
    "from rdkit.Chem import Draw\n",
    "mol=Chem.AddHs(Chem.MolFromSmiles('CCCOC1=CC=C(Cl)C(C)=C1'))\n",
    "for i, a in enumerate(mol.GetAtoms()):\n",
    "    a.SetAtomMapNum(i)\n",
    "AllChem.EmbedMolecule(mol,randomSeed=10) \n",
    "\n",
    "m2=copy.deepcopy(mol)\n",
    "mp2 = AllChem.MMFFGetMoleculeProperties(m2)\n",
    "energy=[]\n",
    "confid=0\n",
    "angles=range(0,370,10)\n",
    "for angle in angles:\n",
    "    confid+=1\n",
    "    ff2 = AllChem.MMFFGetMoleculeForceField(m2, mp2)\n",
    "    ff2.MMFFAddTorsionConstraint(1,2,3,4, False, angle - .1, angle + .1, 100.0)\n",
    "    ff2.Minimize()\n",
    "    energy.append(ff2.CalcEnergy())\n",
    "\n",
    "    xyz=ff2.Positions()\n",
    "    new_conf = Chem.Conformer(mol.GetNumAtoms())\n",
    "    for i in range(mol.GetNumAtoms()):\n",
    "        new_conf.SetAtomPosition(i, (m2.GetConformer(-1).GetAtomPosition(i)))\n",
    "    new_conf.SetId(confid)\n",
    "    mol.AddConformer(new_conf)\n",
    "\n",
    "\n",
    "dfrdkit = pd.DataFrame({'angle':angles, 'energy':energy})\n",
    "alt.Chart(dfrdkit).mark_line(point=True,interpolate=\"natural\").encode(\n",
    "    alt.X('angle:Q',\n",
    "        scale=alt.Scale(domain=[0,360,350])\n",
    "    ),\n",
    "    alt.Y('energy:Q',\n",
    "        scale=alt.Scale(zero=False)\n",
    "    )\n",
    ").interactive()"
   ]
  },
  {
   "cell_type": "code",
   "execution_count": 4,
   "metadata": {},
   "outputs": [
    {
     "data": {
      "text/html": [
       "\n",
       "<div id=\"altair-viz-1fcca53c1b1f458fa7be39eba20df84c\"></div>\n",
       "<script type=\"text/javascript\">\n",
       "  var VEGA_DEBUG = (typeof VEGA_DEBUG == \"undefined\") ? {} : VEGA_DEBUG;\n",
       "  (function(spec, embedOpt){\n",
       "    let outputDiv = document.currentScript.previousElementSibling;\n",
       "    if (outputDiv.id !== \"altair-viz-1fcca53c1b1f458fa7be39eba20df84c\") {\n",
       "      outputDiv = document.getElementById(\"altair-viz-1fcca53c1b1f458fa7be39eba20df84c\");\n",
       "    }\n",
       "    const paths = {\n",
       "      \"vega\": \"https://cdn.jsdelivr.net/npm//vega@5?noext\",\n",
       "      \"vega-lib\": \"https://cdn.jsdelivr.net/npm//vega-lib?noext\",\n",
       "      \"vega-lite\": \"https://cdn.jsdelivr.net/npm//vega-lite@4.17.0?noext\",\n",
       "      \"vega-embed\": \"https://cdn.jsdelivr.net/npm//vega-embed@6?noext\",\n",
       "    };\n",
       "\n",
       "    function maybeLoadScript(lib, version) {\n",
       "      var key = `${lib.replace(\"-\", \"\")}_version`;\n",
       "      return (VEGA_DEBUG[key] == version) ?\n",
       "        Promise.resolve(paths[lib]) :\n",
       "        new Promise(function(resolve, reject) {\n",
       "          var s = document.createElement('script');\n",
       "          document.getElementsByTagName(\"head\")[0].appendChild(s);\n",
       "          s.async = true;\n",
       "          s.onload = () => {\n",
       "            VEGA_DEBUG[key] = version;\n",
       "            return resolve(paths[lib]);\n",
       "          };\n",
       "          s.onerror = () => reject(`Error loading script: ${paths[lib]}`);\n",
       "          s.src = paths[lib];\n",
       "        });\n",
       "    }\n",
       "\n",
       "    function showError(err) {\n",
       "      outputDiv.innerHTML = `<div class=\"error\" style=\"color:red;\">${err}</div>`;\n",
       "      throw err;\n",
       "    }\n",
       "\n",
       "    function displayChart(vegaEmbed) {\n",
       "      vegaEmbed(outputDiv, spec, embedOpt)\n",
       "        .catch(err => showError(`Javascript Error: ${err.message}<br>This usually means there's a typo in your chart specification. See the javascript console for the full traceback.`));\n",
       "    }\n",
       "\n",
       "    if(typeof define === \"function\" && define.amd) {\n",
       "      requirejs.config({paths});\n",
       "      require([\"vega-embed\"], displayChart, err => showError(`Error loading script: ${err.message}`));\n",
       "    } else {\n",
       "      maybeLoadScript(\"vega\", \"5\")\n",
       "        .then(() => maybeLoadScript(\"vega-lite\", \"4.17.0\"))\n",
       "        .then(() => maybeLoadScript(\"vega-embed\", \"6\"))\n",
       "        .catch(showError)\n",
       "        .then(() => displayChart(vegaEmbed));\n",
       "    }\n",
       "  })({\"config\": {\"view\": {\"continuousWidth\": 400, \"continuousHeight\": 300}}, \"data\": {\"name\": \"data-2d3e295211ee6c45275ff70e66b70bc2\"}, \"mark\": {\"type\": \"line\", \"interpolate\": \"natural\", \"point\": true}, \"encoding\": {\"x\": {\"field\": \"angle\", \"scale\": {\"domain\": [0, 360, 350]}, \"type\": \"quantitative\"}, \"y\": {\"field\": \"energy\", \"scale\": {\"zero\": false}, \"type\": \"quantitative\"}}, \"selection\": {\"selector003\": {\"type\": \"interval\", \"bind\": \"scales\", \"encodings\": [\"x\", \"y\"]}}, \"$schema\": \"https://vega.github.io/schema/vega-lite/v4.17.0.json\", \"datasets\": {\"data-2d3e295211ee6c45275ff70e66b70bc2\": [{\"angle\": 0, \"energy\": 31.23111910714611}, {\"angle\": 10, \"energy\": 30.345870307551614}, {\"angle\": 20, \"energy\": 28.99126074078361}, {\"angle\": 30, \"energy\": 27.337432157511188}, {\"angle\": 40, \"energy\": 25.621079148465537}, {\"angle\": 50, \"energy\": 24.110835210442442}, {\"angle\": 60, \"energy\": 23.012969098765694}, {\"angle\": 70, \"energy\": 22.34356947189422}, {\"angle\": 80, \"energy\": 22.01204198276765}, {\"angle\": 90, \"energy\": 21.949398229789608}, {\"angle\": 100, \"energy\": 22.072802306169372}, {\"angle\": 110, \"energy\": 22.284411081790694}, {\"angle\": 120, \"energy\": 22.49299194994011}, {\"angle\": 130, \"energy\": 22.62917888587508}, {\"angle\": 140, \"energy\": 21.46174006654831}, {\"angle\": 150, \"energy\": 20.845627548278415}, {\"angle\": 160, \"energy\": 20.318072155595765}, {\"angle\": 170, \"energy\": 19.965542087737337}, {\"angle\": 180, \"energy\": 19.836026658022046}, {\"angle\": 190, \"energy\": 19.938457909303853}, {\"angle\": 200, \"energy\": 20.25737310406071}, {\"angle\": 210, \"energy\": 20.74209080496114}, {\"angle\": 220, \"energy\": 21.316130320828535}, {\"angle\": 230, \"energy\": 21.905274015230372}, {\"angle\": 240, \"energy\": 22.48678990626509}, {\"angle\": 250, \"energy\": 23.057163270944873}, {\"angle\": 260, \"energy\": 23.571500819760715}, {\"angle\": 270, \"energy\": 23.845903925494387}, {\"angle\": 280, \"energy\": 24.389396530427998}, {\"angle\": 290, \"energy\": 25.16694968243184}, {\"angle\": 300, \"energy\": 26.250283754373793}, {\"angle\": 310, \"energy\": 27.61369960225931}, {\"angle\": 320, \"energy\": 29.08235924223499}, {\"angle\": 330, \"energy\": 30.375533436396978}, {\"angle\": 340, \"energy\": 31.243638869729356}, {\"angle\": 350, \"energy\": 31.546062978297165}, {\"angle\": 360, \"energy\": 31.231119105494972}]}}, {\"mode\": \"vega-lite\"});\n",
       "</script>"
      ],
      "text/plain": [
       "alt.Chart(...)"
      ]
     },
     "execution_count": 4,
     "metadata": {},
     "output_type": "execute_result"
    }
   ],
   "source": [
    "mol=Chem.AddHs(Chem.MolFromSmiles('CCCOC1=CC=C(Cl)C(C)=C1'))\n",
    "for i, a in enumerate(mol.GetAtoms()):\n",
    "    a.SetAtomMapNum(i)\n",
    "AllChem.EmbedMolecule(mol,randomSeed=10)\n",
    "conformer=mol.GetConformer(0)\n",
    "m2=copy.deepcopy(mol)\n",
    "mp = AllChem.MMFFGetMoleculeProperties(m2)\n",
    "mp.SetMMFFOopTerm(False)    # That's the critical bit here - switch off out of plane terms for MMFF\n",
    "ffm = AllChem.MMFFGetMoleculeForceField(m2, mp)\n",
    "energy=[]\n",
    "confid=0\n",
    "angles=range(0,370,10)\n",
    "for angle in angles:\n",
    "    confid+=1\n",
    "    ff2 = AllChem.MMFFGetMoleculeForceField(m2, mp)\n",
    "    ff2.MMFFAddTorsionConstraint(1,2,3,4, False, angle - .1, angle + .1, 5.0)\n",
    "    ff2.MMFFAddTorsionConstraint(4,3,2,1, False, angle - .1, angle + .1, 5.0)\n",
    "    ff2.Minimize()\n",
    "    energy.append(ff2.CalcEnergy())\n",
    "    xyz=ff2.Positions()\n",
    "    new_conf = Chem.Conformer(mol.GetNumAtoms())\n",
    "    for i in range(mol.GetNumAtoms()):\n",
    "        new_conf.SetAtomPosition(i, (m2.GetConformer(-1).GetAtomPosition(i)))\n",
    "    new_conf.SetId(confid)\n",
    "    mol.AddConformer(new_conf)\n",
    "\n",
    "dfrdkit = pd.DataFrame({'angle':angles, 'energy':energy})\n",
    "alt.Chart(dfrdkit).mark_line(point=True,interpolate=\"natural\").encode(\n",
    "    alt.X('angle:Q',\n",
    "        scale=alt.Scale(domain=[0,360,350])\n",
    "    ),\n",
    "    alt.Y('energy:Q',\n",
    "        scale=alt.Scale(zero=False)\n",
    "    )\n",
    ").interactive()"
   ]
  },
  {
   "cell_type": "code",
   "execution_count": 5,
   "metadata": {},
   "outputs": [
    {
     "data": {
      "application/vnd.jupyter.widget-view+json": {
       "model_id": "9213ea1ca07f41b3bfc9c6bbc8367e8b",
       "version_major": 2,
       "version_minor": 0
      },
      "text/plain": [
       "interactive(children=(IntSlider(value=18, description='confId', max=37), Output()), _dom_classes=('widget-inte…"
      ]
     },
     "metadata": {},
     "output_type": "display_data"
    },
    {
     "data": {
      "text/plain": [
       "<function __main__.drawit(m, p, confId)>"
      ]
     },
     "execution_count": 5,
     "metadata": {},
     "output_type": "execute_result"
    }
   ],
   "source": [
    "from ipywidgets import interact, interactive, fixed\n",
    "import py3Dmol\n",
    "patt = Chem.MolFromSmarts('c1ccccc1');patt\n",
    "match = mol.GetSubstructMatch(patt)\n",
    "AllChem.AlignMolConformers(mol,atomIds=match)\n",
    "def drawit(m,p,confId):\n",
    "    mb = Chem.MolToMolBlock(m,confId=confId)\n",
    "    p.removeAllModels()\n",
    "    p.addModel(mb,'sdf')\n",
    "    p.setStyle({'stick':{}})\n",
    "    return p.show()\n",
    "viewer = py3Dmol.view(width=500, height=500)\n",
    "mb = Chem.MolToMolBlock(mol,confId=0)\n",
    "viewer.addModel(mb,'sdf')\n",
    "viewer.setStyle({'stick':{}})\n",
    "viewer.zoomTo()\n",
    "conformerIds=[conf.GetId() for conf in mol.GetConformers()]\n",
    "interact(drawit, m=fixed(mol),p=fixed(viewer),confId=(0,mol.GetNumConformers()-1))"
   ]
  },
  {
   "cell_type": "code",
   "execution_count": 27,
   "metadata": {},
   "outputs": [
    {
     "data": {
      "text/html": [
       "\n",
       "<div id=\"altair-viz-e9e51a5354ba431883af693b1bcd3537\"></div>\n",
       "<script type=\"text/javascript\">\n",
       "  var VEGA_DEBUG = (typeof VEGA_DEBUG == \"undefined\") ? {} : VEGA_DEBUG;\n",
       "  (function(spec, embedOpt){\n",
       "    let outputDiv = document.currentScript.previousElementSibling;\n",
       "    if (outputDiv.id !== \"altair-viz-e9e51a5354ba431883af693b1bcd3537\") {\n",
       "      outputDiv = document.getElementById(\"altair-viz-e9e51a5354ba431883af693b1bcd3537\");\n",
       "    }\n",
       "    const paths = {\n",
       "      \"vega\": \"https://cdn.jsdelivr.net/npm//vega@5?noext\",\n",
       "      \"vega-lib\": \"https://cdn.jsdelivr.net/npm//vega-lib?noext\",\n",
       "      \"vega-lite\": \"https://cdn.jsdelivr.net/npm//vega-lite@4.17.0?noext\",\n",
       "      \"vega-embed\": \"https://cdn.jsdelivr.net/npm//vega-embed@6?noext\",\n",
       "    };\n",
       "\n",
       "    function maybeLoadScript(lib, version) {\n",
       "      var key = `${lib.replace(\"-\", \"\")}_version`;\n",
       "      return (VEGA_DEBUG[key] == version) ?\n",
       "        Promise.resolve(paths[lib]) :\n",
       "        new Promise(function(resolve, reject) {\n",
       "          var s = document.createElement('script');\n",
       "          document.getElementsByTagName(\"head\")[0].appendChild(s);\n",
       "          s.async = true;\n",
       "          s.onload = () => {\n",
       "            VEGA_DEBUG[key] = version;\n",
       "            return resolve(paths[lib]);\n",
       "          };\n",
       "          s.onerror = () => reject(`Error loading script: ${paths[lib]}`);\n",
       "          s.src = paths[lib];\n",
       "        });\n",
       "    }\n",
       "\n",
       "    function showError(err) {\n",
       "      outputDiv.innerHTML = `<div class=\"error\" style=\"color:red;\">${err}</div>`;\n",
       "      throw err;\n",
       "    }\n",
       "\n",
       "    function displayChart(vegaEmbed) {\n",
       "      vegaEmbed(outputDiv, spec, embedOpt)\n",
       "        .catch(err => showError(`Javascript Error: ${err.message}<br>This usually means there's a typo in your chart specification. See the javascript console for the full traceback.`));\n",
       "    }\n",
       "\n",
       "    if(typeof define === \"function\" && define.amd) {\n",
       "      requirejs.config({paths});\n",
       "      require([\"vega-embed\"], displayChart, err => showError(`Error loading script: ${err.message}`));\n",
       "    } else {\n",
       "      maybeLoadScript(\"vega\", \"5\")\n",
       "        .then(() => maybeLoadScript(\"vega-lite\", \"4.17.0\"))\n",
       "        .then(() => maybeLoadScript(\"vega-embed\", \"6\"))\n",
       "        .catch(showError)\n",
       "        .then(() => displayChart(vegaEmbed));\n",
       "    }\n",
       "  })({\"config\": {\"view\": {\"continuousWidth\": 400, \"continuousHeight\": 300}}, \"data\": {\"name\": \"data-b1b8b2304ecb17ff25d253004df426fc\"}, \"mark\": {\"type\": \"line\", \"interpolate\": \"natural\", \"point\": true}, \"encoding\": {\"x\": {\"field\": \"angle\", \"scale\": {\"domain\": [0, 360, 350]}, \"type\": \"quantitative\"}, \"y\": {\"field\": \"energy\", \"scale\": {\"zero\": false}, \"type\": \"quantitative\"}}, \"selection\": {\"selector014\": {\"type\": \"interval\", \"bind\": \"scales\", \"encodings\": [\"x\", \"y\"]}}, \"$schema\": \"https://vega.github.io/schema/vega-lite/v4.17.0.json\", \"datasets\": {\"data-b1b8b2304ecb17ff25d253004df426fc\": [{\"angle\": -180, \"energy\": -5.0759733374116776}, {\"angle\": -175, \"energy\": -5.013018518011694}, {\"angle\": -170, \"energy\": -4.822781906626896}, {\"angle\": -165, \"energy\": -4.516692716731614}, {\"angle\": -160, \"energy\": -4.113434618772372}, {\"angle\": -155, \"energy\": -3.638179937136087}, {\"angle\": -150, \"energy\": -3.121584379925459}, {\"angle\": -145, \"energy\": -2.598481111642941}, {\"angle\": -140, \"energy\": -2.1061342836999635}, {\"angle\": -135, \"energy\": -1.6818345780276256}, {\"angle\": -130, \"energy\": -1.3596408964711009}, {\"angle\": -125, \"energy\": -1.1663812039789683}, {\"angle\": -120, \"energy\": -1.1187910186532524}, {\"angle\": -115, \"energy\": -1.221993081975535}, {\"angle\": -110, \"energy\": -1.4581791340617287}, {\"angle\": -105, \"energy\": -1.8022612135514562}, {\"angle\": -100, \"energy\": -2.2203682849898247}, {\"angle\": -95, \"energy\": -2.6733958550716297}, {\"angle\": -90, \"energy\": -3.1208808794602665}, {\"angle\": -85, \"energy\": -3.525753296103709}, {\"angle\": -80, \"energy\": -3.859307956283523}, {\"angle\": -75, \"energy\": -4.103652857679706}, {\"angle\": -70, \"energy\": -4.249756016463925}, {\"angle\": -65, \"energy\": -4.293683335284913}, {\"angle\": -60, \"energy\": -4.237388669491418}, {\"angle\": -55, \"energy\": -4.077578923013343}, {\"angle\": -50, \"energy\": -3.818280727854795}, {\"angle\": -45, \"energy\": -3.4679246455412494}, {\"angle\": -40, \"energy\": -3.039883996682187}, {\"angle\": -35, \"energy\": -2.55257328259877}, {\"angle\": -30, \"energy\": -2.0292413015712967}, {\"angle\": -25, \"energy\": -1.4975822859297807}, {\"angle\": -20, \"energy\": -0.9891675972810808}, {\"angle\": -15, \"energy\": -0.5384590520505161}, {\"angle\": -10, \"energy\": -0.18083367226238267}, {\"angle\": -5, \"energy\": 0.05117190823986163}, {\"angle\": 0, \"energy\": 0.13365022211295693}, {\"angle\": 5, \"energy\": 0.051171909650551406}, {\"angle\": 10, \"energy\": -0.18083367354783192}, {\"angle\": 15, \"energy\": -0.5384590684025874}, {\"angle\": 20, \"energy\": -0.9891676341626726}, {\"angle\": 25, \"energy\": -1.4975822850258997}, {\"angle\": 30, \"energy\": -2.029241303684753}, {\"angle\": 35, \"energy\": -2.5525733272239797}, {\"angle\": 40, \"energy\": -3.03988394929507}, {\"angle\": 45, \"energy\": -3.467924630471676}, {\"angle\": 50, \"energy\": -3.818280720892359}, {\"angle\": 55, \"energy\": -4.077578906301364}, {\"angle\": 60, \"energy\": -4.237388676078886}, {\"angle\": 65, \"energy\": -4.293683334665233}, {\"angle\": 70, \"energy\": -4.249756029733099}, {\"angle\": 75, \"energy\": -4.103652849230372}, {\"angle\": 80, \"energy\": -3.8593079055045334}, {\"angle\": 85, \"energy\": -3.5257532693163625}, {\"angle\": 90, \"energy\": -3.1208808744208554}, {\"angle\": 95, \"energy\": -2.6733958149120074}, {\"angle\": 100, \"energy\": -2.2203682641999363}, {\"angle\": 105, \"energy\": -1.8022611921760974}, {\"angle\": 110, \"energy\": -1.4581791714794872}, {\"angle\": 115, \"energy\": -1.2219930939203778}, {\"angle\": 120, \"energy\": -1.118791021349773}, {\"angle\": 125, \"energy\": -1.166381223517879}, {\"angle\": 130, \"energy\": -1.359640883609626}, {\"angle\": 135, \"energy\": -1.681834519345308}, {\"angle\": 140, \"energy\": -2.1061343767442096}, {\"angle\": 145, \"energy\": -2.598481135016481}, {\"angle\": 150, \"energy\": -3.121584296396572}, {\"angle\": 155, \"energy\": -3.6381798046475358}, {\"angle\": 160, \"energy\": -4.11343478250228}, {\"angle\": 165, \"energy\": -4.51669264651446}, {\"angle\": 170, \"energy\": -4.822781976896822}, {\"angle\": 175, \"energy\": -5.01301850809146}]}}, {\"mode\": \"vega-lite\"});\n",
       "</script>"
      ],
      "text/plain": [
       "alt.Chart(...)"
      ]
     },
     "execution_count": 27,
     "metadata": {},
     "output_type": "execute_result"
    }
   ],
   "source": [
    "m = Chem.rdmolfiles.MolFromMolFile('test_mol.mol',removeHs = False)\n",
    "mp = AllChem.MMFFGetMoleculeProperties(m)\n",
    "globalFF = AllChem.MMFFGetMoleculeForceField(m, mp)\n",
    "m2 = m;\n",
    "energy = []\n",
    "angles = list(range(-180,180,5))\n",
    "for x in range(-180,180,5):\n",
    "\tff2 = AllChem.MMFFGetMoleculeForceField(m2, mp)\n",
    "\tff2.MMFFAddTorsionConstraint(0,1,2,3, False, x - .1, x + .1, 10.0)\n",
    "\tff2.Minimize()\n",
    "\tenergy.append(globalFF.CalcEnergy(ff2.Positions()))\n",
    "\n",
    "dfrdkit = pd.DataFrame({'angle':angles, 'energy':energy})\n",
    "alt.Chart(dfrdkit).mark_line(point=True,interpolate=\"natural\").encode(\n",
    "    alt.X('angle:Q',\n",
    "        scale=alt.Scale(domain=[0,360,350])\n",
    "    ),\n",
    "    alt.Y('energy:Q',\n",
    "        scale=alt.Scale(zero=False)\n",
    "    )\n",
    ").interactive()"
   ]
  },
  {
   "cell_type": "code",
   "execution_count": 16,
   "metadata": {},
   "outputs": [
    {
     "data": {
      "text/plain": [
       "5517.2431454411535"
      ]
     },
     "execution_count": 16,
     "metadata": {},
     "output_type": "execute_result"
    }
   ],
   "source": []
  },
  {
   "cell_type": "code",
   "execution_count": null,
   "metadata": {},
   "outputs": [],
   "source": []
  }
 ],
 "metadata": {
  "kernelspec": {
   "display_name": "Python 3.8.10 ('base')",
   "language": "python",
   "name": "python3"
  },
  "language_info": {
   "codemirror_mode": {
    "name": "ipython",
    "version": 3
   },
   "file_extension": ".py",
   "mimetype": "text/x-python",
   "name": "python",
   "nbconvert_exporter": "python",
   "pygments_lexer": "ipython3",
   "version": "3.8.16"
  },
  "orig_nbformat": 4,
  "vscode": {
   "interpreter": {
    "hash": "949777d72b0d2535278d3dc13498b2535136f6dfe0678499012e853ee9abcab1"
   }
  }
 },
 "nbformat": 4,
 "nbformat_minor": 2
}
